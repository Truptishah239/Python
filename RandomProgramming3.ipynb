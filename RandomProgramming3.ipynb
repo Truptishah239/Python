{
 "cells": [
  {
   "cell_type": "code",
   "execution_count": 22,
   "metadata": {},
   "outputs": [
    {
     "data": {
      "text/plain": [
       "8"
      ]
     },
     "execution_count": 22,
     "metadata": {},
     "output_type": "execute_result"
    }
   ],
   "source": [
    "def sum_two_smallest_nums(lst):\n",
    "    return sum(sorted([i for i in (lst) if i >0])[:2])  \n",
    "sum_two_smallest_nums([2, 9, 6, -1])  "
   ]
  },
  {
   "cell_type": "code",
   "execution_count": 25,
   "metadata": {},
   "outputs": [
    {
     "data": {
      "text/plain": [
       "40"
      ]
     },
     "execution_count": 25,
     "metadata": {},
     "output_type": "execute_result"
    }
   ],
   "source": [
    "def index_multiplier(lst):\n",
    "    return sum([i*m for i,m in enumerate(lst)])    \n",
    "index_multiplier([1,2,3,4,5])"
   ]
  },
  {
   "cell_type": "code",
   "execution_count": 26,
   "metadata": {},
   "outputs": [
    {
     "data": {
      "text/plain": [
       "[1, 4, 2, 5, 3, 6]"
      ]
     },
     "execution_count": 26,
     "metadata": {},
     "output_type": "execute_result"
    }
   ],
   "source": [
    "def shuffle(L,N):\n",
    "    result =[]\n",
    "    for i in range(N):\n",
    "        result.append(L[i])\n",
    "        result.append(L[i+N])\n",
    "    return result    \n",
    "L= [1,2,3,4,5,6]\n",
    "N = 3  \n",
    "shuffle(L,N)"
   ]
  },
  {
   "cell_type": "code",
   "execution_count": 30,
   "metadata": {},
   "outputs": [
    {
     "data": {
      "text/plain": [
       "[True, True, False, True, True]"
      ]
     },
     "execution_count": 30,
     "metadata": {},
     "output_type": "execute_result"
    }
   ],
   "source": [
    "def kidsWithCandies(lst, N):\n",
    "    return [True if (L[i]+N)>=max(L) else False for i in range(len(lst))] \n",
    "L= [2,3,1,5,3]\n",
    "N = 3\n",
    "kidsWithCandies(L,N)"
   ]
  },
  {
   "cell_type": "code",
   "execution_count": 31,
   "metadata": {},
   "outputs": [
    {
     "data": {
      "text/plain": [
       "3"
      ]
     },
     "execution_count": 31,
     "metadata": {},
     "output_type": "execute_result"
    }
   ],
   "source": [
    "def numJewelsInStones(J,S):\n",
    "    count =0\n",
    "    for i in S:\n",
    "        if i in J:\n",
    "            count +=1\n",
    "    return count   \n",
    "J = \"aA\"\n",
    "S = \"aAAbbbb\"\n",
    "numJewelsInStones(J,S)   "
   ]
  },
  {
   "cell_type": "code",
   "execution_count": 35,
   "metadata": {},
   "outputs": [
    {
     "data": {
      "text/plain": [
       "3"
      ]
     },
     "execution_count": 35,
     "metadata": {},
     "output_type": "execute_result"
    }
   ],
   "source": [
    "def numJewelsInStones(J,S):\n",
    "    return len([i for i in S if i in J]) \n",
    "J = \"aA\"\n",
    "S = \"aAAbbbb\"\n",
    "numJewelsInStones(J,S)"
   ]
  },
  {
   "cell_type": "code",
   "execution_count": 40,
   "metadata": {},
   "outputs": [
    {
     "data": {
      "text/plain": [
       "'255[.]100[.]50[.]0'"
      ]
     },
     "execution_count": 40,
     "metadata": {},
     "output_type": "execute_result"
    }
   ],
   "source": [
    "def defangIPaddr(S):\n",
    "    return \"\".join([\"[\"+\".\"+\"]\" if i == \".\" else i for i in S])\n",
    "address = \"255.100.50.0\"  \n",
    "defangIPaddr(address)"
   ]
  },
  {
   "cell_type": "code",
   "execution_count": 132,
   "metadata": {},
   "outputs": [
    {
     "data": {
      "text/plain": [
       "[False,\n",
       " True,\n",
       " True,\n",
       " True,\n",
       " True,\n",
       " False,\n",
       " False,\n",
       " False,\n",
       " False,\n",
       " False,\n",
       " False,\n",
       " True,\n",
       " False,\n",
       " False,\n",
       " False,\n",
       " False,\n",
       " True,\n",
       " False,\n",
       " False,\n",
       " False,\n",
       " False,\n",
       " True,\n",
       " True,\n",
       " True,\n",
       " False]"
      ]
     },
     "execution_count": 132,
     "metadata": {},
     "output_type": "execute_result"
    }
   ],
   "source": [
    "def smallerNumbersThanCurrent(N):  \n",
    "    return [(i>j) for i in N for j in N]\n",
    "   \n",
    "nums = [8,1,2,2,3]\n",
    "smallerNumbersThanCurrent(nums)   "
   ]
  },
  {
   "cell_type": "code",
   "execution_count": 59,
   "metadata": {},
   "outputs": [
    {
     "data": {
      "text/plain": [
       "'leetcode'"
      ]
     },
     "execution_count": 59,
     "metadata": {},
     "output_type": "execute_result"
    }
   ],
   "source": [
    "def restoreString(s, indices):\n",
    "    l = ['']* len(s)\n",
    "    for i in range(len(s)):\n",
    "        l[indices[i]] = s[i]\n",
    "    return \"\".join(l)    \n",
    "        \n",
    "\n",
    "s = \"codeleet\"\n",
    "indices = [4,5,6,7,0,2,1,3]   \n",
    "restoreString(s,indices)"
   ]
  },
  {
   "cell_type": "code",
   "execution_count": 72,
   "metadata": {},
   "outputs": [
    {
     "data": {
      "text/plain": [
       "'leetcode'"
      ]
     },
     "execution_count": 72,
     "metadata": {},
     "output_type": "execute_result"
    }
   ],
   "source": [
    "def restoreString(s, indices):\n",
    "    return \"\".join([s[i] for i in indices])\n",
    "s = \"codeleet\"\n",
    "indices = [4,5,6,7,0,1,2,3]   \n",
    "restoreString(s,indices)"
   ]
  },
  {
   "cell_type": "code",
   "execution_count": 78,
   "metadata": {},
   "outputs": [
    {
     "data": {
      "text/plain": [
       "6"
      ]
     },
     "execution_count": 78,
     "metadata": {},
     "output_type": "execute_result"
    }
   ],
   "source": [
    "def numberOfSteps(N):\n",
    "    count= 0\n",
    "    while(N!= 0):\n",
    "        if N%2 == 0:\n",
    "            N = N/2\n",
    "            count +=1\n",
    "        else:\n",
    "            N = N-1\n",
    "            count +=1 \n",
    "    return count       \n",
    "   \n",
    "num = 14\n",
    "numberOfSteps(num)"
   ]
  },
  {
   "cell_type": "code",
   "execution_count": 90,
   "metadata": {},
   "outputs": [
    {
     "data": {
      "text/plain": [
       "15"
      ]
     },
     "execution_count": 90,
     "metadata": {},
     "output_type": "execute_result"
    }
   ],
   "source": [
    "def subtractProductAndSum(N):\n",
    "    result = 1\n",
    "    for i in str(N):\n",
    "        result = result * int(i)\n",
    "    return (result - sum(int(i) for i in str(N)))\n",
    "\n",
    "subtractProductAndSum(234)"
   ]
  },
  {
   "cell_type": "code",
   "execution_count": 109,
   "metadata": {},
   "outputs": [
    {
     "data": {
      "text/plain": [
       "[[2], [4, 4, 4]]"
      ]
     },
     "execution_count": 109,
     "metadata": {},
     "output_type": "execute_result"
    }
   ],
   "source": [
    "def decompressRLElist(l):  \n",
    "    return [[l[i+1]] *l[i] for i in range(0,len(l),2)]\n",
    "nums = [1,2,3,4]\n",
    "decompressRLElist(nums)"
   ]
  },
  {
   "cell_type": "code",
   "execution_count": 113,
   "metadata": {},
   "outputs": [
    {
     "data": {
      "text/plain": [
       "[32, 51, 55]"
      ]
     },
     "execution_count": 113,
     "metadata": {},
     "output_type": "execute_result"
    }
   ],
   "source": [
    "def findEvenDigitlength(L):\n",
    "    return [i for i in L if (len(str(i))%2 == 0)] \n",
    "        \n",
    "  \n",
    "L = [32,431,51,6,55]\n",
    "findEvenDigitlength(L)"
   ]
  },
  {
   "cell_type": "code",
   "execution_count": 130,
   "metadata": {},
   "outputs": [
    {
     "data": {
      "text/plain": [
       "[1, 3, 6, 10, 15]"
      ]
     },
     "execution_count": 130,
     "metadata": {},
     "output_type": "execute_result"
    }
   ],
   "source": [
    "def runningSum(N):\n",
    "    return [N[i] + sum(N[:i]) for i in range(len(N))]\n",
    "\n",
    "M = [1,2,3,4,5]\n",
    "runningSum(M)"
   ]
  },
  {
   "cell_type": "code",
   "execution_count": 159,
   "metadata": {},
   "outputs": [
    {
     "data": {
      "text/plain": [
       "'love i programming python'"
      ]
     },
     "execution_count": 159,
     "metadata": {},
     "output_type": "execute_result"
    }
   ],
   "source": [
    "def swap_words(L):\n",
    "    s = L.split()\n",
    "    return \" \".join([s[i+1] if i%2 == 0 else s[i-1] for i in range(0,len(s))])\n",
    "S =\"i love python programming\"\n",
    "swap_words(S)"
   ]
  },
  {
   "cell_type": "code",
   "execution_count": 162,
   "metadata": {},
   "outputs": [
    {
     "data": {
      "text/plain": [
       "40"
      ]
     },
     "execution_count": 162,
     "metadata": {},
     "output_type": "execute_result"
    }
   ],
   "source": [
    "def index_multiplier(lst):\n",
    "    return sum([i*m for i, m in enumerate(lst)])\n",
    "index_multiplier([1,2,3,4,5])"
   ]
  },
  {
   "cell_type": "code",
   "execution_count": 164,
   "metadata": {},
   "outputs": [
    {
     "name": "stdout",
     "output_type": "stream",
     "text": [
      "r\n"
     ]
    },
    {
     "data": {
      "text/plain": [
       "{'G': 1, 'r': 3, 'e': 4, 'k': 2, 'f': 1, 'o': 1, 'g': 1}"
      ]
     },
     "execution_count": 164,
     "metadata": {},
     "output_type": "execute_result"
    }
   ],
   "source": [
    "def occurance(s):\n",
    "    d = {}\n",
    "    for i in s:\n",
    "        if i in d:\n",
    "            d[i] +=1\n",
    "        else:\n",
    "            d[i] = 1\n",
    "    print(max(d))        \n",
    "    return d  \n",
    " \n",
    "s1 = \"Greekforgreek\" \n",
    "occurance(s1)  "
   ]
  },
  {
   "cell_type": "code",
   "execution_count": 169,
   "metadata": {},
   "outputs": [
    {
     "data": {
      "text/plain": [
       "'amog'"
      ]
     },
     "execution_count": 169,
     "metadata": {},
     "output_type": "execute_result"
    }
   ],
   "source": [
    "def removeduplicate(Str):\n",
    "    return \"\".join(set([i for i in Str]))\n",
    "    \n",
    "S= \"mamgog\"\n",
    "removeduplicate(S)     "
   ]
  },
  {
   "cell_type": "code",
   "execution_count": 171,
   "metadata": {},
   "outputs": [
    {
     "data": {
      "text/plain": [
       "4"
      ]
     },
     "execution_count": 171,
     "metadata": {},
     "output_type": "execute_result"
    }
   ],
   "source": [
    "def occurance(lst,x):\n",
    "    return lst.count(x)\n",
    "lst = [1,2,3,4,5,6,7,1,1,1]\n",
    "x = 1\n",
    "occurance(lst,x)"
   ]
  },
  {
   "cell_type": "code",
   "execution_count": 186,
   "metadata": {},
   "outputs": [
    {
     "data": {
      "text/plain": [
       "[1, 2, 3, 0, 0]"
      ]
     },
     "execution_count": 186,
     "metadata": {},
     "output_type": "execute_result"
    }
   ],
   "source": [
    "def move_zeros(lst):\n",
    "    r= [i for i in lst if i != 0]\n",
    "    while (len(r) < len(lst)):\n",
    "        r.append(0)\n",
    "    return r\n",
    "lst = [0,1,2,0,3]\n",
    "move_zeros(lst)"
   ]
  },
  {
   "cell_type": "code",
   "execution_count": 188,
   "metadata": {},
   "outputs": [
    {
     "name": "stdout",
     "output_type": "stream",
     "text": [
      "[1, 2, 4, 5, 8]\n"
     ]
    }
   ],
   "source": [
    "def bubble_sort(lst):\n",
    "    swapped = True\n",
    "    while(swapped):\n",
    "        swapped = False\n",
    "        for i in range(len(lst)-1):\n",
    "            if lst[i] >lst[i+1]:\n",
    "                lst[i], lst[i+1] = lst[i+1], lst[i]\n",
    "                swapped = True\n",
    "                \n",
    "random_list_of_nums = [5, 2, 1, 8, 4]\n",
    "bubble_sort(random_list_of_nums)\n",
    "print(random_list_of_nums)"
   ]
  },
  {
   "cell_type": "code",
   "execution_count": 191,
   "metadata": {},
   "outputs": [
    {
     "name": "stdout",
     "output_type": "stream",
     "text": [
      "[3, 8, 11, 12, 20]\n"
     ]
    }
   ],
   "source": [
    "def selection_sort(nums):\n",
    "    for i in range(len(nums)):\n",
    "        lowest_index = i\n",
    "        for j in range(i+1, len(nums)):\n",
    "            if nums[j] < nums[lowest_index]:\n",
    "                lowest_index = j\n",
    "                \n",
    "        nums[i], nums[lowest_index] =  nums[lowest_index], nums[i]    \n",
    "        \n",
    "random_list_of_nums = [12, 8, 3, 20, 11]\n",
    "selection_sort(random_list_of_nums)\n",
    "print(random_list_of_nums)   \n"
   ]
  },
  {
   "cell_type": "code",
   "execution_count": 197,
   "metadata": {},
   "outputs": [
    {
     "name": "stdout",
     "output_type": "stream",
     "text": [
      "[1, 6, 9, 15, 28]\n"
     ]
    }
   ],
   "source": [
    "def insertion_sort(nums):\n",
    "    for i in range(1, len(nums)):\n",
    "        item_insert = nums[i]\n",
    "        j = i-1\n",
    "        while j>=0 and nums[j] > item_insert:\n",
    "            nums[j+1] = nums[j]\n",
    "            j = j-1\n",
    "        nums[j+1] = item_insert       \n",
    "    \n",
    "# Verify it works\n",
    "random_list_of_nums = [9, 1, 15, 28, 6]\n",
    "insertion_sort(random_list_of_nums)\n",
    "print(random_list_of_nums)"
   ]
  },
  {
   "cell_type": "code",
   "execution_count": 213,
   "metadata": {},
   "outputs": [
    {
     "name": "stdout",
     "output_type": "stream",
     "text": [
      "40\n",
      "30\n",
      "20\n",
      "10\n",
      "10\n",
      "20\n",
      "30\n",
      "40\n",
      "10\n",
      "20\n",
      "40\n"
     ]
    }
   ],
   "source": [
    "class Node:\n",
    "    def __init__(self, data):\n",
    "        self.data = data\n",
    "        self.next = None\n",
    "class LinkedList():\n",
    "    def __init__(self):\n",
    "        self.head = None\n",
    "    def push(self, data):\n",
    "        new_node = Node(data)\n",
    "        new_node.next = self.head\n",
    "        self.head = new_node\n",
    "    def printlist(self):\n",
    "        temp = self.head\n",
    "        while(temp):\n",
    "            print(temp.data)\n",
    "            temp = temp.next\n",
    "    def reverselist(self):\n",
    "        prev = None\n",
    "        current = self.head\n",
    "        while (current):\n",
    "            next = current.next\n",
    "            current.next =prev\n",
    "            prev= current\n",
    "            current = next\n",
    "        self.head = prev\n",
    "        \n",
    "    def removeFromEnd(self, N):\n",
    "        slow= fast = self.head\n",
    "        for i in range(N):\n",
    "            fast = fast.next\n",
    "        if fast is None:\n",
    "            return slow.next\n",
    "        while(fast.next):\n",
    "            slow = slow.next\n",
    "            fast= fast.next\n",
    "        slow.next = slow.next.next \n",
    "        return self.head\n",
    "        \n",
    "llist= LinkedList()\n",
    "llist.push(10)\n",
    "llist.push(20)\n",
    "llist.push(30)\n",
    "llist.push(40)\n",
    "llist.printlist()\n",
    "llist.reverselist()\n",
    "llist.printlist()\n",
    "llist.removeFromEnd(2)\n",
    "llist.printlist()"
   ]
  },
  {
   "cell_type": "code",
   "execution_count": 1,
   "metadata": {},
   "outputs": [
    {
     "data": {
      "text/plain": [
       "18"
      ]
     },
     "execution_count": 1,
     "metadata": {},
     "output_type": "execute_result"
    }
   ],
   "source": [
    "def kadane(A):\n",
    "    max_current= max_global = A[0]\n",
    "    for i in range(1, len(A)):\n",
    "        max_current = max(A[i], max_current+A[i])\n",
    "        if max_global < max_current:\n",
    "            max_global = max_current\n",
    "    return max_global     \n",
    "            \n",
    "A =[-2,3,2,-1,2,3,4,5]\n",
    "kadane(A)"
   ]
  },
  {
   "cell_type": "code",
   "execution_count": 229,
   "metadata": {},
   "outputs": [
    {
     "data": {
      "text/plain": [
       "10"
      ]
     },
     "execution_count": 229,
     "metadata": {},
     "output_type": "execute_result"
    }
   ],
   "source": [
    "class Queue():\n",
    "    def __init__(self, head =None):\n",
    "        self.storage =[head]\n",
    "    def enqueue(self, new_element):\n",
    "        self.storage.append(new_element)\n",
    "    def dequeue(self):\n",
    "        return self.storage.pop(0)\n",
    "    def peek(self):\n",
    "        return self.storage[0]\n",
    "\n",
    "    \n",
    "q = Queue(6)\n",
    "q.enqueue(10)\n",
    "q.enqueue(2)\n",
    "q.enqueue(3)\n",
    "q.enqueue(4)\n",
    "q.enqueue(5)\n",
    "\n",
    "#q.peek()\n",
    "q.dequeue()\n",
    "q.dequeue()"
   ]
  },
  {
   "cell_type": "code",
   "execution_count": 230,
   "metadata": {},
   "outputs": [
    {
     "name": "stdout",
     "output_type": "stream",
     "text": [
      "89\n"
     ]
    }
   ],
   "source": [
    "def get_fibonacci(n):\n",
    "    if n ==1: return 1\n",
    "    elif n ==0 : return 0\n",
    "    elif n<0: return -1\n",
    "    else:return (get_fibonacci(n-1)+get_fibonacci(n-2))\n",
    "    \n",
    "print(get_fibonacci(11))"
   ]
  },
  {
   "cell_type": "code",
   "execution_count": 237,
   "metadata": {},
   "outputs": [
    {
     "data": {
      "text/plain": [
       "5"
      ]
     },
     "execution_count": 237,
     "metadata": {},
     "output_type": "execute_result"
    }
   ],
   "source": [
    "def getInvCount(arr):\n",
    "    count = 0\n",
    "    for i in range (len(arr)):\n",
    "        for j in range (i+1, len(arr)):\n",
    "            if arr[i]>arr[j]:\n",
    "                count +=1\n",
    "    return count              \n",
    "arr = [1, 20, 6, 4, 5] \n",
    "getInvCount(arr)"
   ]
  },
  {
   "cell_type": "code",
   "execution_count": 245,
   "metadata": {},
   "outputs": [
    {
     "name": "stdout",
     "output_type": "stream",
     "text": [
      "\n",
      " List\n",
      "50 40 10 10 10 \n",
      " List\n",
      "50 40 10 "
     ]
    }
   ],
   "source": [
    "class Node():\n",
    "    def __init__(self, data):\n",
    "        self.data = data\n",
    "        self.next = None\n",
    "class LinkedList():\n",
    "    def __init__(self):\n",
    "        self.head = None\n",
    "    def push(self, new_data):\n",
    "        new_Node = Node(new_data)\n",
    "        new_Node.next = self.head\n",
    "        self.head = new_Node\n",
    "    def printList(self):\n",
    "        temp = self.head\n",
    "        print(\"\\n List\")\n",
    "        while(temp):\n",
    "            print(temp.data, end =' ')\n",
    "            temp = temp.next\n",
    "    def deleteDuplicate(self):\n",
    "        curr= self.head\n",
    "        while(curr.next):\n",
    "            if curr.data ==curr.next.data:\n",
    "                curr.next =curr.next.next\n",
    "            else:\n",
    "                curr = curr.next\n",
    "        return self.head     \n",
    "            \n",
    "l= LinkedList()\n",
    "l.push(10)\n",
    "l.push(10)\n",
    "l.push(10)\n",
    "l.push(40)\n",
    "l.push(50)\n",
    "l.printList()\n",
    "l.deleteDuplicate()\n",
    "l.printList()"
   ]
  },
  {
   "cell_type": "code",
   "execution_count": 247,
   "metadata": {},
   "outputs": [
    {
     "data": {
      "text/plain": [
       "4"
      ]
     },
     "execution_count": 247,
     "metadata": {},
     "output_type": "execute_result"
    }
   ],
   "source": [
    "def balancedStringSplit(s):\n",
    "    balanced =0\n",
    "    count =0\n",
    "    d={'R' :1, 'L':-1}\n",
    "    for i in range(len(s)):\n",
    "        balanced += d[s[i]]\n",
    "        if balanced == 0:\n",
    "            count +=1\n",
    "    return count        \n",
    "\n",
    "s = \"RLRRLLRLRL\"\n",
    "balancedStringSplit(s)"
   ]
  },
  {
   "cell_type": "code",
   "execution_count": 250,
   "metadata": {},
   "outputs": [
    {
     "data": {
      "text/plain": [
       "4"
      ]
     },
     "execution_count": 250,
     "metadata": {},
     "output_type": "execute_result"
    }
   ],
   "source": [
    "def countGoodTriplets(arr, a, b, c):\n",
    "    out=0\n",
    "    for i in range(len(arr)):\n",
    "        for j in range(i+1,len(arr)):\n",
    "            if(abs(arr[i]-arr[j])<=a):\n",
    "                for k in range(j+1,len(arr)):\n",
    "                    if(abs(arr[j]-arr[k])<=b):\n",
    "                        if(abs(arr[i]-arr[k])<=c):\n",
    "                            out+=1\n",
    "\n",
    "    return out\n",
    "\n",
    "m = [3,0,1,1,9,7]\n",
    "a = 7\n",
    "b = 2\n",
    "c = 3\n",
    "countGoodTriplets(m,a,b,c)"
   ]
  },
  {
   "cell_type": "code",
   "execution_count": null,
   "metadata": {},
   "outputs": [],
   "source": [
    " def diagonalSum(mat):\n",
    "        row = len(mat)\n",
    "        col = len(mat[0])\n",
    "        result = 0\n",
    "        for i in range(row):\n",
    "            for j in range(col):\n",
    "                while(i == j):\n",
    "                     result += mat[i][j] \n",
    "        return result                \n",
    "    \n",
    "mat = [[1,1,1,1],\n",
    "       [1,1,1,1],\n",
    "       [1,1,1,1],\n",
    "       [1,1,1,1]]    \n",
    "diagonalSum(mat)\n"
   ]
  },
  {
   "cell_type": "code",
   "execution_count": null,
   "metadata": {},
   "outputs": [],
   "source": []
  }
 ],
 "metadata": {
  "kernelspec": {
   "display_name": "Python 3",
   "language": "python",
   "name": "python3"
  },
  "language_info": {
   "codemirror_mode": {
    "name": "ipython",
    "version": 3
   },
   "file_extension": ".py",
   "mimetype": "text/x-python",
   "name": "python",
   "nbconvert_exporter": "python",
   "pygments_lexer": "ipython3",
   "version": "3.7.6"
  }
 },
 "nbformat": 4,
 "nbformat_minor": 4
}
