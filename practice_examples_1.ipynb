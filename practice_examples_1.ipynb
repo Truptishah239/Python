{
 "cells": [
  {
   "cell_type": "code",
   "execution_count": 26,
   "metadata": {},
   "outputs": [
    {
     "data": {
      "text/plain": [
       "8"
      ]
     },
     "execution_count": 26,
     "metadata": {},
     "output_type": "execute_result"
    }
   ],
   "source": [
    "def sum_two_smallest_nums(lst):\n",
    "    return sum(sorted([i for i in lst if i > 0])[:2])\n",
    "sum_two_smallest_nums([2, 9, 6, -1])    "
   ]
  },
  {
   "cell_type": "code",
   "execution_count": 31,
   "metadata": {},
   "outputs": [
    {
     "data": {
      "text/plain": [
       "40"
      ]
     },
     "execution_count": 31,
     "metadata": {},
     "output_type": "execute_result"
    }
   ],
   "source": [
    "def index_multiplier(lst):\n",
    "    return sum([i* m for i, m in enumerate (lst)])\n",
    "index_multiplier([1,2,3,4,5])"
   ]
  },
  {
   "cell_type": "code",
   "execution_count": 32,
   "metadata": {},
   "outputs": [
    {
     "data": {
      "text/plain": [
       "[1, 4, 2, 5, 3, 6]"
      ]
     },
     "execution_count": 32,
     "metadata": {},
     "output_type": "execute_result"
    }
   ],
   "source": [
    "def shuffle(L,N):\n",
    "    result =[]\n",
    "    for i in range(0,N):\n",
    "        result.append(L[i])\n",
    "        result.append(L[i+N])\n",
    "    return result    \n",
    "         \n",
    "    \n",
    "L= [1,2,3,4,5,6]\n",
    "N = 3  \n",
    "shuffle(L,N)"
   ]
  },
  {
   "cell_type": "code",
   "execution_count": 36,
   "metadata": {},
   "outputs": [
    {
     "data": {
      "text/plain": [
       "[True, True, False, True, True]"
      ]
     },
     "execution_count": 36,
     "metadata": {},
     "output_type": "execute_result"
    }
   ],
   "source": [
    "def kidsWithCandies(lst, N):\n",
    "    return [True if (lst[i]+N) >= (max(lst)) else False for i in range (len(lst))]\n",
    "L= [2,3,1,5,3]\n",
    "N = 3\n",
    "kidsWithCandies(L,N)"
   ]
  },
  {
   "cell_type": "code",
   "execution_count": 38,
   "metadata": {},
   "outputs": [
    {
     "data": {
      "text/plain": [
       "4"
      ]
     },
     "execution_count": 38,
     "metadata": {},
     "output_type": "execute_result"
    }
   ],
   "source": [
    " def numIdenticalPairs(nums):\n",
    "        count = 0\n",
    "        for i in range(len(nums)):\n",
    "            for j in range (i , len(nums)):\n",
    "                if nums[i] == nums[j] and i <j:\n",
    "                    count +=1\n",
    "        return count    \n",
    "nums = [1,2,3,1,1,3]\n",
    "numIdenticalPairs(nums)"
   ]
  },
  {
   "cell_type": "code",
   "execution_count": 39,
   "metadata": {},
   "outputs": [
    {
     "data": {
      "text/plain": [
       "4"
      ]
     },
     "execution_count": 39,
     "metadata": {},
     "output_type": "execute_result"
    }
   ],
   "source": [
    "def calculator(num1, operator, num2):\n",
    "    return eval(\"num1\" + operator + \"num2\")    \n",
    "calculator(2, \"+\", 2)"
   ]
  },
  {
   "cell_type": "code",
   "execution_count": 41,
   "metadata": {},
   "outputs": [
    {
     "data": {
      "text/plain": [
       "3"
      ]
     },
     "execution_count": 41,
     "metadata": {},
     "output_type": "execute_result"
    }
   ],
   "source": [
    "def numJewelsInStones(J,S):\n",
    "    total = 0\n",
    "    for i in S:\n",
    "        if i in J:\n",
    "            total +=1 \n",
    "    return total      \n",
    "    \n",
    "J = \"aA\"\n",
    "S = \"aAAbbbb\"\n",
    "numJewelsInStones(J,S) "
   ]
  },
  {
   "cell_type": "code",
   "execution_count": 55,
   "metadata": {},
   "outputs": [
    {
     "data": {
      "text/plain": [
       "3"
      ]
     },
     "execution_count": 55,
     "metadata": {},
     "output_type": "execute_result"
    }
   ],
   "source": [
    "def numJewelsInStones(J,S):\n",
    "    return sum([1 for i in S if i in J])\n",
    "   \n",
    "\n",
    "J = \"aA\"\n",
    "S = \"aAAbbbb\"\n",
    "numJewelsInStones(J,S)"
   ]
  },
  {
   "cell_type": "code",
   "execution_count": 42,
   "metadata": {},
   "outputs": [
    {
     "data": {
      "text/plain": [
       "'255[.]100[.]50[.]0'"
      ]
     },
     "execution_count": 42,
     "metadata": {},
     "output_type": "execute_result"
    }
   ],
   "source": [
    "def defangIPaddr(S):\n",
    "    return S.replace('.', '[.]')\n",
    " \n",
    "\n",
    "address = \"255.100.50.0\"  \n",
    "defangIPaddr(address)"
   ]
  },
  {
   "cell_type": "code",
   "execution_count": 43,
   "metadata": {},
   "outputs": [
    {
     "data": {
      "text/plain": [
       "'255[.]100[.]50[.]0'"
      ]
     },
     "execution_count": 43,
     "metadata": {},
     "output_type": "execute_result"
    }
   ],
   "source": [
    "def defangIPaddr(S):\n",
    "    return ''.join('[.]' if i == '.' else i for i in S)\n",
    " \n",
    "\n",
    "address = \"255.100.50.0\"  \n",
    "defangIPaddr(address)"
   ]
  },
  {
   "cell_type": "code",
   "execution_count": 48,
   "metadata": {},
   "outputs": [
    {
     "data": {
      "text/plain": [
       "[4, 0, 1, 1, 3]"
      ]
     },
     "execution_count": 48,
     "metadata": {},
     "output_type": "execute_result"
    }
   ],
   "source": [
    "def smallerNumbersThanCurrent(N):\n",
    "    l = []\n",
    "    for i in N:\n",
    "        count = 0\n",
    "        for j in N:\n",
    "            if i > j:\n",
    "                count += 1\n",
    "        l.append(count)   \n",
    "    return l\n",
    "                \n",
    "nums = [8,1,2,2,3]\n",
    "smallerNumbersThanCurrent(nums) "
   ]
  },
  {
   "cell_type": "code",
   "execution_count": 53,
   "metadata": {},
   "outputs": [
    {
     "data": {
      "text/plain": [
       "'leetcode'"
      ]
     },
     "execution_count": 53,
     "metadata": {},
     "output_type": "execute_result"
    }
   ],
   "source": [
    "def restoreString(s, indices):\n",
    "    new_str =['']* len(s)\n",
    "    for i in range(len (s)):\n",
    "        new_str[indices[i]] = s[i]\n",
    "    return ''.join(new_str)     \n",
    "                   \n",
    "s = \"codeleet\"\n",
    "indices = [4,5,6,7,0,2,1,3]   \n",
    "restoreString(s,indices)"
   ]
  },
  {
   "cell_type": "code",
   "execution_count": 60,
   "metadata": {},
   "outputs": [
    {
     "data": {
      "text/plain": [
       "7"
      ]
     },
     "execution_count": 60,
     "metadata": {},
     "output_type": "execute_result"
    }
   ],
   "source": [
    "def numberOfSteps(N):\n",
    "    count = 1\n",
    "    while(N != 0):\n",
    "        if N% 2 == 0:\n",
    "            count += 1\n",
    "            N = N/2\n",
    "        else:\n",
    "            N = N-1\n",
    "            count += 1\n",
    "    return count       \n",
    "        \n",
    "\n",
    "num = 14\n",
    "numberOfSteps(num)"
   ]
  },
  {
   "cell_type": "code",
   "execution_count": 69,
   "metadata": {},
   "outputs": [
    {
     "data": {
      "text/plain": [
       "15"
      ]
     },
     "execution_count": 69,
     "metadata": {},
     "output_type": "execute_result"
    }
   ],
   "source": [
    "def subtractProductAndSum(N):\n",
    "    L = [i for i in str(N)]\n",
    "    product = 1\n",
    "    Total = 0\n",
    "    for i in L:\n",
    "        product = int(i)* product\n",
    "        Total += int(i) \n",
    "    return (product - Total)\n",
    "subtractProductAndSum(234)"
   ]
  },
  {
   "cell_type": "code",
   "execution_count": 73,
   "metadata": {},
   "outputs": [
    {
     "data": {
      "text/plain": [
       "[32, 51, 55]"
      ]
     },
     "execution_count": 73,
     "metadata": {},
     "output_type": "execute_result"
    }
   ],
   "source": [
    "def findEvenDigitNumber(L):\n",
    "    result = []\n",
    "    for i in range(len (L)):\n",
    "        if len(str(L[i])) % 2 == 0:\n",
    "            result.append(L[i])\n",
    "    return result        \n",
    "               \n",
    "L = [32,431,51,6,55]\n",
    "findEvenDigitNumber(L)"
   ]
  },
  {
   "cell_type": "code",
   "execution_count": 81,
   "metadata": {},
   "outputs": [
    {
     "data": {
      "text/plain": [
       "8"
      ]
     },
     "execution_count": 81,
     "metadata": {},
     "output_type": "execute_result"
    }
   ],
   "source": [
    "def countNegative(L):\n",
    "    count =0 \n",
    "    row = len(L)\n",
    "    col = len(L[0])\n",
    "    for i in range(row):\n",
    "        for j in range(col):\n",
    "            if L[i][j] < 0:\n",
    "                count +=1\n",
    "    return count   \n",
    "\n",
    "lst = [[4,3,2,-1],[3,2,1,-1],[1,1,-1,-2],[-1,-1,-2,-3]]\n",
    "countNegative(lst)"
   ]
  },
  {
   "cell_type": "code",
   "execution_count": 82,
   "metadata": {},
   "outputs": [
    {
     "data": {
      "text/plain": [
       "array([ 1,  3,  6, 10, 15], dtype=int32)"
      ]
     },
     "execution_count": 82,
     "metadata": {},
     "output_type": "execute_result"
    }
   ],
   "source": [
    "import numpy as np\n",
    "def runningsum(nums):\n",
    "    return np.cumsum(nums)\n",
    "M = [1,2,3,4,5]\n",
    "runningsum(M)"
   ]
  },
  {
   "cell_type": "code",
   "execution_count": 87,
   "metadata": {},
   "outputs": [
    {
     "data": {
      "text/plain": [
       "[1, 3, 6, 10, 15]"
      ]
     },
     "execution_count": 87,
     "metadata": {},
     "output_type": "execute_result"
    }
   ],
   "source": [
    "def runningsum(nums):\n",
    "    return [nums[i]+sum(nums[0:i]) for i in range (len(nums))]\n",
    "    \n",
    "M = [1,2,3,4,5]\n",
    "runningsum(M)"
   ]
  },
  {
   "cell_type": "code",
   "execution_count": 88,
   "metadata": {},
   "outputs": [
    {
     "data": {
      "text/plain": [
       "[1, 3, 6, 10, 15]"
      ]
     },
     "execution_count": 88,
     "metadata": {},
     "output_type": "execute_result"
    }
   ],
   "source": [
    "def runningsum(N):\n",
    "    lst = []\n",
    "    result = N[0]\n",
    "    lst.append(result)\n",
    "    for i in range(1,len(N)):\n",
    "        result = result +N[i]\n",
    "        lst.append(result)\n",
    "    return lst\n",
    "\n",
    "M = [1,2,3,4,5]\n",
    "runningsum(M)"
   ]
  },
  {
   "cell_type": "code",
   "execution_count": 93,
   "metadata": {},
   "outputs": [
    {
     "data": {
      "text/plain": [
       "'programmingpython'"
      ]
     },
     "execution_count": 93,
     "metadata": {},
     "output_type": "execute_result"
    }
   ],
   "source": [
    "def swap_words(S):\n",
    "    s =S.split()\n",
    "    str1 = ''\n",
    "    for i in range(0, len (s)- 1):\n",
    "        if i % 2 == 0:\n",
    "            s[i],s[i+1] = s[i+1], s[i]\n",
    "            str1 +=  s[i]+s[i+1]\n",
    "    return str1    \n",
    "\n",
    "\n",
    "S = \"i love python programming \"\n",
    "swap_words(S)"
   ]
  },
  {
   "cell_type": "code",
   "execution_count": 95,
   "metadata": {
    "collapsed": true
   },
   "outputs": [
    {
     "data": {
      "text/plain": [
       "40"
      ]
     },
     "execution_count": 95,
     "metadata": {},
     "output_type": "execute_result"
    }
   ],
   "source": [
    "def index_multiplier(lst):\n",
    "    return sum([i*m for i, m in enumerate (lst) ]) \n",
    "        \n",
    "index_multiplier([1,2,3,4,5])"
   ]
  },
  {
   "cell_type": "code",
   "execution_count": 109,
   "metadata": {},
   "outputs": [
    {
     "data": {
      "text/plain": [
       "{'g': 2, 'r': 3, 'e': 4, 'k': 2, 'f': 1, 'o': 1}"
      ]
     },
     "execution_count": 109,
     "metadata": {},
     "output_type": "execute_result"
    }
   ],
   "source": [
    "def occurance(s):\n",
    "    d = {}\n",
    "    for i in s:\n",
    "        if i in d:\n",
    "            d[i.lower()] += 1\n",
    "        else:\n",
    "            d[i.lower()] = 1\n",
    "    return d  \n",
    "\n",
    "s1 = \"Greekforgreek\" \n",
    "occurance(s1)  "
   ]
  },
  {
   "cell_type": "code",
   "execution_count": 124,
   "metadata": {},
   "outputs": [
    {
     "name": "stdout",
     "output_type": "stream",
     "text": [
      "Max of all character: e\n"
     ]
    }
   ],
   "source": [
    "def Max_occurance(s):\n",
    "    d = {}\n",
    "    for i in s:\n",
    "        if i in d:\n",
    "            d[i.lower()] += 1\n",
    "        else:\n",
    "            d[i.lower()] = 1\n",
    "    print(\"Max of all character: \" + max(d, key =d.get))\n",
    "          \n",
    "s1 = \"Greekforgreek\" \n",
    "Max_occurance(s1)  "
   ]
  },
  {
   "cell_type": "code",
   "execution_count": 132,
   "metadata": {},
   "outputs": [
    {
     "data": {
      "text/plain": [
       "'mango'"
      ]
     },
     "execution_count": 132,
     "metadata": {},
     "output_type": "execute_result"
    }
   ],
   "source": [
    "def remove_duplicate(S):\n",
    "    d = {}\n",
    "    for i in S:\n",
    "        if i not in d:\n",
    "            d[i] = 1\n",
    "    return ''. join(i for i in d)        \n",
    "            \n",
    "    \n",
    "S= \"mmmanmmmgogmm\"\n",
    "remove_duplicate(S)"
   ]
  },
  {
   "cell_type": "code",
   "execution_count": 139,
   "metadata": {},
   "outputs": [
    {
     "data": {
      "text/plain": [
       "'no more doubles '"
      ]
     },
     "execution_count": 139,
     "metadata": {},
     "output_type": "execute_result"
    }
   ],
   "source": [
    "# Using stack\n",
    "def remove_doubles(S):\n",
    "    stack = []\n",
    "    for i in S:\n",
    "        if stack and stack[-1] == i:\n",
    "            stack.pop()\n",
    "        else:\n",
    "            stack.append(i)\n",
    "    return ''. join(stack)  \n",
    "      \n",
    "S= \"nnnooo moooreee doubles \"\n",
    "remove_doubles(S)   "
   ]
  },
  {
   "cell_type": "code",
   "execution_count": 142,
   "metadata": {},
   "outputs": [
    {
     "name": "stdout",
     "output_type": "stream",
     "text": [
      "Counter({'e': 4, 'r': 3, 'k': 2, 'G': 1, 'f': 1, 'o': 1, 'g': 1})\n",
      "maximum time occured letter : e\n"
     ]
    }
   ],
   "source": [
    "from collections import Counter\n",
    "def occurance(s):\n",
    "    r = Counter(s)\n",
    "    print(r)\n",
    "    print(\"maximum time occured letter : \" + max(r, key=r.get))\n",
    "s1 = \"Greekforgreek\" \n",
    "occurance(s1)  "
   ]
  },
  {
   "cell_type": "code",
   "execution_count": null,
   "metadata": {},
   "outputs": [],
   "source": []
  }
 ],
 "metadata": {
  "kernelspec": {
   "display_name": "Python 3",
   "language": "python",
   "name": "python3"
  },
  "language_info": {
   "codemirror_mode": {
    "name": "ipython",
    "version": 3
   },
   "file_extension": ".py",
   "mimetype": "text/x-python",
   "name": "python",
   "nbconvert_exporter": "python",
   "pygments_lexer": "ipython3",
   "version": "3.7.6"
  }
 },
 "nbformat": 4,
 "nbformat_minor": 4
}
