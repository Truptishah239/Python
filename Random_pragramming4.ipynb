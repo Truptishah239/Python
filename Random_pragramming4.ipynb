{
 "cells": [
  {
   "cell_type": "code",
   "execution_count": 64,
   "metadata": {},
   "outputs": [
    {
     "data": {
      "text/plain": [
       "3"
      ]
     },
     "execution_count": 64,
     "metadata": {},
     "output_type": "execute_result"
    }
   ],
   "source": [
    "#Even number of digit / length \n",
    "def findNumbers(nums):\n",
    "    res = 0\n",
    "    for num in nums:\n",
    "        if len(str(num))%2 == 0:\n",
    "            res +=1\n",
    "    return res\n",
    "\n",
    "L = [32,431,51,6,55]\n",
    "findNumbers(L)"
   ]
  },
  {
   "cell_type": "code",
   "execution_count": 65,
   "metadata": {},
   "outputs": [
    {
     "data": {
      "text/plain": [
       "8"
      ]
     },
     "execution_count": 65,
     "metadata": {},
     "output_type": "execute_result"
    }
   ],
   "source": [
    "def countNegative(lst):\n",
    "    l = len(lst)\n",
    "    col = len(lst[0])\n",
    "    counter_of_negative = 0\n",
    "    for i in range(l):\n",
    "        for m in range (col):\n",
    "            if lst[i][m] <0:\n",
    "                counter_of_negative += 1\n",
    "    return counter_of_negative            \n",
    "\n",
    "lst = [[4,3,2,-1],[3,2,1,-1],[1,1,-1,-2],[-1,-1,-2,-3]]\n",
    "countNegative(lst)"
   ]
  },
  {
   "cell_type": "code",
   "execution_count": 66,
   "metadata": {},
   "outputs": [
    {
     "name": "stdout",
     "output_type": "stream",
     "text": [
      "['i', 'love', 'python', 'programming']\n"
     ]
    },
    {
     "data": {
      "text/plain": [
       "'loveiprogrammingpython'"
      ]
     },
     "execution_count": 66,
     "metadata": {},
     "output_type": "execute_result"
    }
   ],
   "source": [
    "def swap_words(S):\n",
    "    s =S.split()\n",
    "    print(s)\n",
    "    str1 = ''\n",
    "    for i in range (0, len(s)-1):\n",
    "        if i %2 ==0:\n",
    "            s[i],s[i+1] = s[i+1],s[i]\n",
    "            str1 += s[i]+s[i+1]\n",
    "    return str1 \n",
    "\n",
    "S = \"i love python programming \"\n",
    "swap_words(S)"
   ]
  },
  {
   "cell_type": "code",
   "execution_count": 67,
   "metadata": {},
   "outputs": [
    {
     "data": {
      "text/plain": [
       "[10, 20, 31, 41]"
      ]
     },
     "execution_count": 67,
     "metadata": {},
     "output_type": "execute_result"
    }
   ],
   "source": [
    "def sortArray(lst):\n",
    "    even = (x for x in lst if x % 2 == 0)\n",
    "    odd = (x for x in lst if x% 2 == 1)\n",
    "    return list(even)+ list(odd)\n",
    "lst = [10,20, 31, 41]\n",
    "sortArray(lst)"
   ]
  },
  {
   "cell_type": "code",
   "execution_count": 68,
   "metadata": {},
   "outputs": [
    {
     "data": {
      "text/plain": [
       "[[0, 0, 1, 0, 0], [0, 0]]"
      ]
     },
     "execution_count": 68,
     "metadata": {},
     "output_type": "execute_result"
    }
   ],
   "source": [
    "def flipAndInvertImage(A):\n",
    "    B=[]\n",
    "    b=[]\n",
    "    j=[]\n",
    "    for a in A:\n",
    "        j=[]\n",
    "        for i in a:\n",
    "            if i==1:\n",
    "                j.append(0)\n",
    "            else:\n",
    "                j.append(1)  \n",
    "            b=j[::-1]\n",
    "        B.append(b)\n",
    "    return B\n",
    "\n",
    "lst= [[1,1,0,1,1], [1,1]]\n",
    "flipAndInvertImage(lst)"
   ]
  },
  {
   "cell_type": "code",
   "execution_count": 69,
   "metadata": {},
   "outputs": [
    {
     "data": {
      "text/plain": [
       "[4, 9, 16, 100]"
      ]
     },
     "execution_count": 69,
     "metadata": {},
     "output_type": "execute_result"
    }
   ],
   "source": [
    "def sortedsquare(A):\n",
    "    A.sort(key =abs)\n",
    "    return [x**2 for x in A]\n",
    "\n",
    "A = [10,2,3,4]\n",
    "sortedsquare(A)"
   ]
  },
  {
   "cell_type": "code",
   "execution_count": 70,
   "metadata": {},
   "outputs": [
    {
     "name": "stdout",
     "output_type": "stream",
     "text": [
      "True\n"
     ]
    }
   ],
   "source": [
    "def is_palindrome(word):\n",
    "    left = 0\n",
    "    right = len(word)-1\n",
    "    while right > left:\n",
    "        if not (word[left].lower() ==word[right].lower()):\n",
    "            return False\n",
    "        left = left +1\n",
    "        right = right -1\n",
    "        return True\n",
    "    \n",
    "print (is_palindrome('Deleveled'))        "
   ]
  },
  {
   "cell_type": "code",
   "execution_count": 71,
   "metadata": {},
   "outputs": [
    {
     "name": "stdout",
     "output_type": "stream",
     "text": [
      "{'Trupti': ['Input.txt', 'output.txt'], 'Aarohi': ['code.py']}\n"
     ]
    }
   ],
   "source": [
    "def group_by_owners(files):\n",
    "    owners = set()\n",
    "    ownerdict ={}\n",
    "    \n",
    "    \n",
    "    for k,v in files.items():\n",
    "        owners.add(v)\n",
    "    for o in owners:\n",
    "        ownerdict[o] = []\n",
    "        for k,v in files.items():\n",
    "            if v == o:\n",
    "                ownerdict[o].append(k)\n",
    "    return ownerdict  \n",
    "files ={\n",
    "    \"Input.txt\": 'Trupti',\n",
    "    \"code.py\": \"Aarohi\",\n",
    "    \"output.txt\": \"Trupti\"\n",
    "}\n",
    "\n",
    "print(group_by_owners(files))  "
   ]
  },
  {
   "cell_type": "code",
   "execution_count": 72,
   "metadata": {},
   "outputs": [
    {
     "name": "stdout",
     "output_type": "stream",
     "text": [
      "[['chocolate sauce', 'vanilla'], ['chocolate sauce', 'chocolate'], ['vanilla sauce', 'vanilla'], ['vanilla sauce', 'chocolate']]\n"
     ]
    }
   ],
   "source": [
    "class IceCreamMachine:\n",
    "    def __init__(self, topping, ingredient) :\n",
    "        self.topping = topping\n",
    "        self. ingredient = ingredient \n",
    "        \n",
    "    def scoops(self):\n",
    "        result = []\n",
    "        for ingredient in self.ingredient:\n",
    "            for topping in self.topping:\n",
    "                merge = []\n",
    "                merge.append(ingredient)\n",
    "                merge.append(topping)\n",
    "                result.append(merge)\n",
    "        return result \n",
    "    \n",
    "machine =  IceCreamMachine ([\"vanilla\", \"chocolate\"], [\"chocolate sauce\", \"vanilla sauce\"])\n",
    "print (machine.scoops())"
   ]
  },
  {
   "cell_type": "code",
   "execution_count": 73,
   "metadata": {},
   "outputs": [
    {
     "name": "stdout",
     "output_type": "stream",
     "text": [
      "['trupti', 'dhiraj', 'aarohi', 'rihit']\n"
     ]
    }
   ],
   "source": [
    "def unique_name(name1, name2):\n",
    "    unique_names = name1\n",
    "    for n in name2:\n",
    "        if n not in names1:\n",
    "            unique_names.append(n)\n",
    "    return unique_names\n",
    "\n",
    "names1 = ['trupti','dhiraj', 'aarohi']\n",
    "names2 = ['trupti', 'dhiraj', 'rihit']\n",
    "print(unique_name(names1, names2))\n",
    "            "
   ]
  },
  {
   "cell_type": "code",
   "execution_count": 74,
   "metadata": {},
   "outputs": [
    {
     "data": {
      "text/plain": [
       "3628800"
      ]
     },
     "execution_count": 74,
     "metadata": {},
     "output_type": "execute_result"
    }
   ],
   "source": [
    "from math import factorial\n",
    "def factorial(Z):\n",
    "    if Z ==1:\n",
    "        return 1\n",
    "    else:\n",
    "        return Z*factorial (Z-1)\n",
    "\n",
    "factorial(10)\n",
    "    "
   ]
  },
  {
   "cell_type": "code",
   "execution_count": 75,
   "metadata": {},
   "outputs": [
    {
     "data": {
      "text/plain": [
       "'acacraam'"
      ]
     },
     "execution_count": 75,
     "metadata": {},
     "output_type": "execute_result"
    }
   ],
   "source": [
    "def replace_vowel(txt, ch):\n",
    "    return \"\". join([i if i not in 'aeiou' else ch for i in txt])\n",
    "\n",
    "replace_vowel('icecream', 'a')"
   ]
  },
  {
   "cell_type": "code",
   "execution_count": 76,
   "metadata": {},
   "outputs": [
    {
     "data": {
      "text/plain": [
       "True"
      ]
     },
     "execution_count": 76,
     "metadata": {},
     "output_type": "execute_result"
    }
   ],
   "source": [
    "def double_letter(str1):\n",
    "    for i in range (len(str1)):\n",
    "        if str1[i] ==str1[i+1]:\n",
    "            return True\n",
    "    return False   \n",
    "\n",
    "double_letter('loops')"
   ]
  },
  {
   "cell_type": "code",
   "execution_count": 77,
   "metadata": {},
   "outputs": [
    {
     "data": {
      "text/plain": [
       "6"
      ]
     },
     "execution_count": 77,
     "metadata": {},
     "output_type": "execute_result"
    }
   ],
   "source": [
    "def sum_of_evens(lst):\n",
    "    sum_even = 0\n",
    "    for i in lst:\n",
    "        for a in i:\n",
    "            if a %2 == 0:\n",
    "                sum_even += a\n",
    "    return sum_even\n",
    "\n",
    "sum_of_evens([\n",
    "  [1, 0, 2],\n",
    "  [5, 5, 7],\n",
    "  [9, 4, 3]\n",
    "])"
   ]
  },
  {
   "cell_type": "code",
   "execution_count": 78,
   "metadata": {},
   "outputs": [
    {
     "data": {
      "text/plain": [
       "40"
      ]
     },
     "execution_count": 78,
     "metadata": {},
     "output_type": "execute_result"
    }
   ],
   "source": [
    "def index_multiplier(lst):\n",
    "    total = 0\n",
    "    for i in range(0, len(lst)):\n",
    "        m = i* lst[i]\n",
    "        total +=m\n",
    "    return total   \n",
    "\n",
    "index_multiplier([1,2,3,4,5])"
   ]
  },
  {
   "cell_type": "code",
   "execution_count": null,
   "metadata": {},
   "outputs": [],
   "source": []
  }
 ],
 "metadata": {
  "kernelspec": {
   "display_name": "Python 3",
   "language": "python",
   "name": "python3"
  },
  "language_info": {
   "codemirror_mode": {
    "name": "ipython",
    "version": 3
   },
   "file_extension": ".py",
   "mimetype": "text/x-python",
   "name": "python",
   "nbconvert_exporter": "python",
   "pygments_lexer": "ipython3",
   "version": "3.7.6"
  }
 },
 "nbformat": 4,
 "nbformat_minor": 2
}
