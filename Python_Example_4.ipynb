{
 "cells": [
  {
   "cell_type": "markdown",
   "metadata": {},
   "source": [
    "#### Warm-up challenges"
   ]
  },
  {
   "cell_type": "code",
   "execution_count": 15,
   "metadata": {},
   "outputs": [
    {
     "name": "stdout",
     "output_type": "stream",
     "text": [
      "Counter({1: 3, 2: 3, 3: 1})\n"
     ]
    },
    {
     "data": {
      "text/plain": [
       "(2, 3)"
      ]
     },
     "execution_count": 15,
     "metadata": {},
     "output_type": "execute_result"
    }
   ],
   "source": [
    "#there are n=7 socks with colors ar = [1,2,1,2,1,3,2].\n",
    "#There is one pair of color 1 and one of color 2. There are three odd socks left, one of each color.\n",
    "#The number of pairs is 2.\n",
    "\n",
    "import collections\n",
    "def sockMerchant(n, ar):\n",
    "    d = {}\n",
    "    count = total =m =0\n",
    "    d = collections.Counter(ar)\n",
    "    print (d)\n",
    "    for k,v in d.items():\n",
    "        m = (v//2) \n",
    "        count += m\n",
    "        if v%2 != 0:\n",
    "            total += 1 \n",
    "     \n",
    "    return count, total  \n",
    "          \n",
    "ar = [1,2,1,2,1,3,2]\n",
    "n = 7\n",
    "sockMerchant(n,ar)"
   ]
  },
  {
   "cell_type": "code",
   "execution_count": 23,
   "metadata": {},
   "outputs": [
    {
     "data": {
      "text/plain": [
       "2"
      ]
     },
     "execution_count": 23,
     "metadata": {},
     "output_type": "execute_result"
    }
   ],
   "source": [
    "def sockMerchant(n, ar):\n",
    "     return sum([ar.count(i)//2 for i in set(ar)])\n",
    "\n",
    "          \n",
    "ar = [1,2,1,2,1,3,2]\n",
    "n = 7\n",
    "sockMerchant(n,ar)"
   ]
  },
  {
   "cell_type": "code",
   "execution_count": 27,
   "metadata": {},
   "outputs": [
    {
     "data": {
      "text/plain": [
       "3"
      ]
     },
     "execution_count": 27,
     "metadata": {},
     "output_type": "execute_result"
    }
   ],
   "source": [
    "from collections import Counter\n",
    "def sockMerchant(n, ar):\n",
    "    return sum([ar.count(i)//2 for i in set(ar)])\n",
    " \n",
    "ar = [1,2,1,2,1,3,1]\n",
    "n = 7\n",
    "sockMerchant(n,ar)"
   ]
  },
  {
   "cell_type": "code",
   "execution_count": 88,
   "metadata": {},
   "outputs": [
    {
     "data": {
      "text/plain": [
       "1"
      ]
     },
     "execution_count": 88,
     "metadata": {},
     "output_type": "execute_result"
    }
   ],
   "source": [
    "#Given the sequence of up and down steps during a hike, \n",
    "#find and print the number of valleys walked through.\n",
    "\n",
    "def countingValleys(steps, path):\n",
    "    valley = 0\n",
    "    sealevel = 0\n",
    "    \n",
    "    for p in path:\n",
    "        if p == 'U':\n",
    "            sealevel +=1\n",
    "        else:\n",
    "            sealevel -= 1\n",
    "            \n",
    "        if sealevel == 0 and p == 'U':\n",
    "            valley += 1\n",
    "            \n",
    "    return valley    \n",
    "    \n",
    "    \n",
    "path ='UDDDUDUU'\n",
    "steps=8\n",
    "countingValleys(steps, path)"
   ]
  },
  {
   "attachments": {
    "image.png": {
     "image/png": "[encoded data removed]"
    }
   },
   "cell_type": "markdown",
   "metadata": {},
   "source": [
    "![image.png](attachment:image.png)"
   ]
  },
  {
   "cell_type": "code",
   "execution_count": 99,
   "metadata": {},
   "outputs": [
    {
     "data": {
      "text/plain": [
       "4"
      ]
     },
     "execution_count": 99,
     "metadata": {},
     "output_type": "execute_result"
    }
   ],
   "source": [
    "def jumpingOnClouds(c):\n",
    "    count = 0\n",
    "    for i in range(0,len(c)-1):\n",
    "        if c[i] == 0 and c[i+2] ==0:\n",
    "            count +=1\n",
    "        elif c[i] == 0 and c[i+1] == 0:  \n",
    "            count +=1\n",
    "    return count       \n",
    "            \n",
    " \n",
    "c = [0,0,0,0,1,0]\n",
    "jumpingOnClouds(c)"
   ]
  },
  {
   "cell_type": "code",
   "execution_count": 100,
   "metadata": {},
   "outputs": [
    {
     "data": {
      "text/plain": [
       "3"
      ]
     },
     "execution_count": 100,
     "metadata": {},
     "output_type": "execute_result"
    }
   ],
   "source": [
    "from itertools import groupby\n",
    "def jumpingOnClouds(c):\n",
    "    return sum(cloud_type + len(list(items)) // 2 for cloud_type, items in groupby(c))      \n",
    "            \n",
    " \n",
    "c = [0,0,0,0,1,0]\n",
    "jumpingOnClouds(c)\n",
    "\n",
    "        "
   ]
  },
  {
   "cell_type": "code",
   "execution_count": 107,
   "metadata": {},
   "outputs": [
    {
     "data": {
      "text/plain": [
       "3"
      ]
     },
     "execution_count": 107,
     "metadata": {},
     "output_type": "execute_result"
    }
   ],
   "source": [
    "from itertools import groupby\n",
    "def jumpingOnClouds(c):\n",
    "    return sum( cloud_type + len(list(items)) // 2 for cloud_type, items in groupby(c))\n",
    "         \n",
    "            \n",
    "c = [0,0,0,0,1,0]\n",
    "jumpingOnClouds(c)"
   ]
  },
  {
   "cell_type": "code",
   "execution_count": 108,
   "metadata": {},
   "outputs": [
    {
     "name": "stdout",
     "output_type": "stream",
     "text": [
      "0 [0, 0, 0, 0]\n",
      "1 [1]\n",
      "0 [0]\n"
     ]
    }
   ],
   "source": [
    "from itertools import groupby\n",
    "def jumpingOnClouds(c):\n",
    "    for cloud_type, items in groupby(c):\n",
    "        print(cloud_type,list(items))\n",
    "         \n",
    "            \n",
    "c = [0,0,0,0,1,0]\n",
    "jumpingOnClouds(c)"
   ]
  },
  {
   "cell_type": "code",
   "execution_count": 122,
   "metadata": {},
   "outputs": [
    {
     "data": {
      "text/plain": [
       "7"
      ]
     },
     "execution_count": 122,
     "metadata": {},
     "output_type": "execute_result"
    }
   ],
   "source": [
    "def repeatedString(s):\n",
    "    m = n//len(s)\n",
    "    r = n % len(s)\n",
    "    new_s = \"\"\n",
    "    for i in range(r):\n",
    "        new_s += s[i]\n",
    "       \n",
    "    return (s.count('a')* m + new_s.count('a'))   \n",
    "\n",
    "    \n",
    "s = 'aba'\n",
    "n =11\n",
    "repeatedString(s)"
   ]
  },
  {
   "cell_type": "code",
   "execution_count": null,
   "metadata": {},
   "outputs": [],
   "source": [
    "def repeatedString(s):\n",
    "    (s.count(\"a\") * (n // len(s)) + s[:n % len(s)].count(\"a\"))\n",
    "\n",
    "s = 'aba'\n",
    "n =11\n",
    "repeatedString(s)"
   ]
  },
  {
   "cell_type": "code",
   "execution_count": 123,
   "metadata": {},
   "outputs": [
    {
     "name": "stdout",
     "output_type": "stream",
     "text": [
      "[3, 5, 8]\n"
     ]
    }
   ],
   "source": [
    "#Find the Missing Number\n",
    "def find_missing(lst): \n",
    "    return [i for i in range(lst[0], lst[-1]+1) if i not in lst]  \n",
    "  \n",
    "# Driver code \n",
    "lst = [1, 2, 4, 6, 7, 9, 10] \n",
    "print(find_missing(lst))"
   ]
  },
  {
   "cell_type": "code",
   "execution_count": 129,
   "metadata": {},
   "outputs": [
    {
     "data": {
      "text/plain": [
       "8"
      ]
     },
     "execution_count": 129,
     "metadata": {},
     "output_type": "execute_result"
    }
   ],
   "source": [
    "#O( m * n )\n",
    "def countNegatives(grid):\n",
    "    \n",
    "    h, w = len(grid), len(grid[0])\n",
    "    \n",
    "    counter_of_negatives = 0\n",
    "    for i in range(h):\n",
    "        for j in range(w):\n",
    "            if grid[i][j] < 0:\n",
    "                counter_of_negatives += 1\n",
    "                \n",
    "    return counter_of_negatives\n",
    "\n",
    "lst = [[4,3,2,-1],[3,2,1,-1],[1,1,-1,-2],[-1,-1,-2,-3]]\n",
    "countNegatives(lst)"
   ]
  },
  {
   "cell_type": "code",
   "execution_count": 133,
   "metadata": {},
   "outputs": [
    {
     "data": {
      "text/plain": [
       "8"
      ]
     },
     "execution_count": 133,
     "metadata": {},
     "output_type": "execute_result"
    }
   ],
   "source": [
    "def countNegatives(grid):\n",
    "    count = 0\n",
    "    for r in (grid):\n",
    "        for e in r[::-1]:\n",
    "            if e < 0: count +=1\n",
    "            else: break    \n",
    "  \n",
    "    return count\n",
    "    \n",
    "lst = [[4,3,2,-1],[3,2,1,-1],[1,1,-1,-2],[-1,-1,-2,-3]]\n",
    "countNegatives(lst)"
   ]
  },
  {
   "cell_type": "code",
   "execution_count": 138,
   "metadata": {},
   "outputs": [
    {
     "data": {
      "text/plain": [
       "[1, -1, 2, -2, 0]"
      ]
     },
     "execution_count": 138,
     "metadata": {},
     "output_type": "execute_result"
    }
   ],
   "source": [
    "# Find N Unique Integers Sum up to Zero\n",
    "def sumZero(n):\n",
    "    lst = []\n",
    "    for i in range(1, (n//2 +1)) :\n",
    "        lst += [i,-i]\n",
    "        \n",
    "    if n% 2 == 1:\n",
    "        lst += [0]\n",
    "    return lst   \n",
    "\n",
    "sumZero(5)"
   ]
  },
  {
   "cell_type": "code",
   "execution_count": 139,
   "metadata": {},
   "outputs": [
    {
     "data": {
      "text/plain": [
       "[10, 12, 14, 16, 11, 13, 15, 17]"
      ]
     },
     "execution_count": 139,
     "metadata": {},
     "output_type": "execute_result"
    }
   ],
   "source": [
    "#Python O( n )\n",
    "def sortArrayByParity(L):\n",
    "    even_part   = ( x for x in L if x%2 == 0 )\n",
    "    odd_part    = ( x for x in L if x%2 == 1 )\n",
    "        \n",
    "    return list(even_part) + list(odd_part)\n",
    "\n",
    "L = [10,11,12,13,14,15,16,17]\n",
    "sortArrayByParity(L)"
   ]
  },
  {
   "cell_type": "code",
   "execution_count": 142,
   "metadata": {},
   "outputs": [
    {
     "data": {
      "text/plain": [
       "[1, 4, 9, 16, 25, 36, 49, 64, 81]"
      ]
     },
     "execution_count": 142,
     "metadata": {},
     "output_type": "execute_result"
    }
   ],
   "source": [
    "def sortedSquares(L):\n",
    "    return sorted(x**2 for x in L)\n",
    "\n",
    "\n",
    "L = [1,9,2,8,3,7,4,6,5]\n",
    "sortedSquares(L)"
   ]
  },
  {
   "cell_type": "code",
   "execution_count": 145,
   "metadata": {},
   "outputs": [
    {
     "name": "stdout",
     "output_type": "stream",
     "text": [
      "True\n"
     ]
    }
   ],
   "source": [
    "def is_palindrome(word):\n",
    "    return word[:].lower()== word[::-1].lower()\n",
    "\n",
    "print(is_palindrome('Deleveled'))  "
   ]
  },
  {
   "cell_type": "code",
   "execution_count": 148,
   "metadata": {},
   "outputs": [
    {
     "name": "stdout",
     "output_type": "stream",
     "text": [
      "True\n"
     ]
    }
   ],
   "source": [
    "def is_palindrome(word):\n",
    "    left = 0\n",
    "    right = len(word)-1\n",
    "    while right >= left:\n",
    "        if not (word[left].lower()) == (word[right].lower()):\n",
    "            return False\n",
    "        left = left +1\n",
    "        right = right-1\n",
    "        \n",
    "    return True       \n",
    "            \n",
    "\n",
    "print(is_palindrome('Deleveled'))  "
   ]
  },
  {
   "cell_type": "code",
   "execution_count": 150,
   "metadata": {},
   "outputs": [
    {
     "name": "stdout",
     "output_type": "stream",
     "text": [
      "{'Aarohi': ['code.py'], 'Trupti': ['Input.txt', 'output.txt']}\n"
     ]
    }
   ],
   "source": [
    "def group_by_owners(files):\n",
    "    owners = set()\n",
    "    ownerdict ={}\n",
    "    \n",
    "    for i, m in files.items():\n",
    "        owners.add(m)\n",
    "    for m in owners:\n",
    "        ownerdict[m] = []\n",
    "        for k, v in files.items():\n",
    "            if v == m:\n",
    "                ownerdict[m].append(k)\n",
    "        \n",
    "    return ownerdict\n",
    "   \n",
    "\n",
    "files ={\n",
    "    \"Input.txt\": 'Trupti',\n",
    "    \"code.py\": \"Aarohi\",\n",
    "    \"output.txt\": \"Trupti\"\n",
    "}\n",
    "\n",
    "print(group_by_owners(files))"
   ]
  },
  {
   "cell_type": "code",
   "execution_count": 151,
   "metadata": {},
   "outputs": [
    {
     "name": "stdout",
     "output_type": "stream",
     "text": [
      "[['vanilla', 'chocolate sauce'], ['vanilla', 'vanilla sauce'], ['chocolate', 'chocolate sauce'], ['chocolate', 'vanilla sauce']]\n"
     ]
    }
   ],
   "source": [
    "class IceCreamMachine:\n",
    "    \n",
    "    def __init__(self, ingredients, toppings):\n",
    "        self.ingredients = ingredients\n",
    "        self.toppings = toppings\n",
    "        \n",
    "       \n",
    "    def scoops(self):\n",
    "        result = []\n",
    "        for ingredient in self.ingredients:\n",
    "            for topping in self.toppings:\n",
    "                merge = []\n",
    "                merge.append(ingredient)\n",
    "                merge.append(topping)\n",
    "                result.append(merge)\n",
    "        return result\n",
    "    \n",
    "machine = IceCreamMachine([\"vanilla\", \"chocolate\"], [\"chocolate sauce\", \"vanilla sauce\"])\n",
    "print(machine.scoops())"
   ]
  },
  {
   "cell_type": "code",
   "execution_count": 152,
   "metadata": {},
   "outputs": [
    {
     "name": "stdout",
     "output_type": "stream",
     "text": [
      "['trupti', 'dhiraj', 'aarohi', 'rihit']\n"
     ]
    }
   ],
   "source": [
    "def unique_name(names1, names2):\n",
    "    unique_names =names1\n",
    "    for name in names2:\n",
    "        if name not in names1:\n",
    "            unique_names.append(name)\n",
    "    return unique_names\n",
    "\n",
    "names1 = ['trupti','dhiraj', 'aarohi']\n",
    "names2 = ['trupti', 'dhiraj', 'rihit']\n",
    "\n",
    "print(unique_name(names1, names2))"
   ]
  },
  {
   "cell_type": "code",
   "execution_count": 153,
   "metadata": {},
   "outputs": [
    {
     "name": "stdout",
     "output_type": "stream",
     "text": [
      "1\n",
      "2\n",
      "buzz\n",
      "4\n",
      "fuzz\n",
      "buzz\n",
      "7\n",
      "8\n",
      "buzz\n",
      "fuzz\n",
      "11\n",
      "buzz\n",
      "13\n",
      "14\n"
     ]
    }
   ],
   "source": [
    "for num in range (1,15):\n",
    "    if num %5 == 0 and num %3 == 0:\n",
    "        print (\"fuzzbuzz\")\n",
    "    elif num % 5 == 0:\n",
    "        print (\"fuzz\")\n",
    "    elif num % 3 == 0:\n",
    "        print(\"buzz\")\n",
    "    else:\n",
    "        print (num)"
   ]
  },
  {
   "cell_type": "code",
   "execution_count": 155,
   "metadata": {},
   "outputs": [
    {
     "data": {
      "text/plain": [
       "120"
      ]
     },
     "execution_count": 155,
     "metadata": {},
     "output_type": "execute_result"
    }
   ],
   "source": [
    "from math import factorial\n",
    "def factorial(Z):\n",
    "    if Z==1:\n",
    "        return 1\n",
    "    else:\n",
    "        return Z* factorial(Z-1)\n",
    "    \n",
    "factorial(5)   "
   ]
  },
  {
   "cell_type": "code",
   "execution_count": 157,
   "metadata": {},
   "outputs": [
    {
     "data": {
      "text/plain": [
       "6"
      ]
     },
     "execution_count": 157,
     "metadata": {},
     "output_type": "execute_result"
    }
   ],
   "source": [
    "#Sum of all Evens in a Matrix\n",
    "def sum_of_evens(lst):\n",
    "    Total=0\n",
    "    for i in lst:\n",
    "        for j in i:\n",
    "            if j % 2 == 0:\n",
    "                Total = Total + j\n",
    "    return Total            \n",
    "   \n",
    "\n",
    "sum_of_evens([\n",
    "  [1, 0, 2],\n",
    "  [5, 5, 7],\n",
    "  [9, 4, 3]\n",
    "])"
   ]
  },
  {
   "cell_type": "code",
   "execution_count": 158,
   "metadata": {},
   "outputs": [
    {
     "data": {
      "text/plain": [
       "'pap_ier44, townieBOY and 4 online'"
      ]
     },
     "execution_count": 158,
     "metadata": {},
     "output_type": "execute_result"
    }
   ],
   "source": [
    "def chatroom_status(users):\n",
    "    users = list(users)\n",
    "    if len(users) < 0:\n",
    "        return \"no one online\"\n",
    "    elif len(users)==1:\n",
    "        return users[0] +\"online\"\n",
    "    elif len(users) == 2:\n",
    "        return users[0] + \"and \"+ users[1] + \"online\"\n",
    "    else:\n",
    "        return users[0] + \", \"+ users[1] + \" and \" + str(len(users) - 2) + \" online\"\n",
    "    \n",
    "    \n",
    "chatroom_status([\"pap_ier44\", \"townieBOY\", \"panda321\", \"motor_bike5\", \"sandwichmaker833\", \"violinist91\"])   "
   ]
  },
  {
   "cell_type": "code",
   "execution_count": null,
   "metadata": {},
   "outputs": [],
   "source": []
  }
 ],
 "metadata": {
  "kernelspec": {
   "display_name": "Python 3",
   "language": "python",
   "name": "python3"
  },
  "language_info": {
   "codemirror_mode": {
    "name": "ipython",
    "version": 3
   },
   "file_extension": ".py",
   "mimetype": "text/x-python",
   "name": "python",
   "nbconvert_exporter": "python",
   "pygments_lexer": "ipython3",
   "version": "3.7.6"
  }
 },
 "nbformat": 4,
 "nbformat_minor": 4
}
