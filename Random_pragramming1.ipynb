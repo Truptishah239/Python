{
 "cells": [
  {
   "cell_type": "code",
   "execution_count": 112,
   "metadata": {},
   "outputs": [
    {
     "data": {
      "text/plain": [
       "8"
      ]
     },
     "execution_count": 112,
     "metadata": {},
     "output_type": "execute_result"
    }
   ],
   "source": [
    "def sum_two_smallest_nums(lst):\n",
    "    return sum(sorted([x for x in lst if x>0])[:2])\n",
    "sum_two_smallest_nums([2, 9, 6, -1])    "
   ]
  },
  {
   "cell_type": "code",
   "execution_count": 117,
   "metadata": {},
   "outputs": [
    {
     "data": {
      "text/plain": [
       "40"
      ]
     },
     "execution_count": 117,
     "metadata": {},
     "output_type": "execute_result"
    }
   ],
   "source": [
    "def index_multiplier(lst):\n",
    "    return sum([i*m for i,m in enumerate (lst)])\n",
    "index_multiplier([1,2,3,4,5])"
   ]
  },
  {
   "cell_type": "code",
   "execution_count": 31,
   "metadata": {},
   "outputs": [
    {
     "data": {
      "text/plain": [
       "[1, 4, 2, 5, 3, 6]"
      ]
     },
     "execution_count": 31,
     "metadata": {},
     "output_type": "execute_result"
    }
   ],
   "source": [
    "def shuffle(L,N):\n",
    "    result = []\n",
    "    for i in range(0,N):\n",
    "        result.append(L[i])\n",
    "        result.append(L[N+i])\n",
    "    return result         \n",
    "    \n",
    "L= [1,2,3,4,5,6]\n",
    "N = 3  \n",
    "shuffle(L,N)"
   ]
  },
  {
   "cell_type": "code",
   "execution_count": 10,
   "metadata": {},
   "outputs": [
    {
     "data": {
      "text/plain": [
       "[True, True, False, True, True]"
      ]
     },
     "execution_count": 10,
     "metadata": {},
     "output_type": "execute_result"
    }
   ],
   "source": [
    "def kidsWithCandies(lst, N):\n",
    "    return [True if ((lst[i]+N)>=(max(lst))) else False for i in range(len(lst))] \n",
    "\n",
    "L= [2,3,1,5,3]\n",
    "N = 3\n",
    "kidsWithCandies(L,N)"
   ]
  },
  {
   "cell_type": "code",
   "execution_count": 33,
   "metadata": {},
   "outputs": [
    {
     "data": {
      "text/plain": [
       "4"
      ]
     },
     "execution_count": 33,
     "metadata": {},
     "output_type": "execute_result"
    }
   ],
   "source": [
    " def numIdenticalPairs(nums):\n",
    "        count =0\n",
    "        for i in range(len(nums)):\n",
    "            for j in range(len(nums)):\n",
    "                if nums[i]== nums[j] and i <j:\n",
    "                    count += 1\n",
    "        return count\n",
    "    \n",
    "nums = [1,2,3,1,1,3]\n",
    "numIdenticalPairs(nums)"
   ]
  },
  {
   "cell_type": "code",
   "execution_count": 8,
   "metadata": {},
   "outputs": [
    {
     "data": {
      "text/plain": [
       "4"
      ]
     },
     "execution_count": 8,
     "metadata": {},
     "output_type": "execute_result"
    }
   ],
   "source": [
    "def calculator(num1, operator, num2):\n",
    "    return eval(\"num1\" + operator + \"num2\")    \n",
    "calculator(2, \"+\", 2)"
   ]
  },
  {
   "cell_type": "code",
   "execution_count": 50,
   "metadata": {},
   "outputs": [
    {
     "data": {
      "text/plain": [
       "3"
      ]
     },
     "execution_count": 50,
     "metadata": {},
     "output_type": "execute_result"
    }
   ],
   "source": [
    "def numJewelsInStones(J,S):\n",
    "    count =0\n",
    "    for i in S:\n",
    "        if i in J:\n",
    "            count +=1\n",
    "    return count        \n",
    "    \n",
    "J = \"aA\"\n",
    "S = \"aAAbbbb\"\n",
    "numJewelsInStones(J,S)    "
   ]
  },
  {
   "cell_type": "code",
   "execution_count": 53,
   "metadata": {},
   "outputs": [
    {
     "name": "stdout",
     "output_type": "stream",
     "text": [
      "Counter({'b': 4, 'A': 2, 'a': 1})\n"
     ]
    },
    {
     "data": {
      "text/plain": [
       "3"
      ]
     },
     "execution_count": 53,
     "metadata": {},
     "output_type": "execute_result"
    }
   ],
   "source": [
    "import collections \n",
    "def numJewelsInStones(J,S):\n",
    "    count =0\n",
    "    c = collections.Counter(S)\n",
    "    print(c)\n",
    "    for i in J:\n",
    "        count += c[i]\n",
    "    return count    \n",
    "    \n",
    "J = \"aA\"\n",
    "S = \"aAAbbbb\"\n",
    "numJewelsInStones(J,S)    "
   ]
  },
  {
   "cell_type": "code",
   "execution_count": 57,
   "metadata": {},
   "outputs": [
    {
     "data": {
      "text/plain": [
       "'255[.]100[.]50[.]0'"
      ]
     },
     "execution_count": 57,
     "metadata": {},
     "output_type": "execute_result"
    }
   ],
   "source": [
    "def defangIPaddr(S):\n",
    "    return ''. join([\"[\" +i+\"]\" if i == \".\" else i for i in S ])\n",
    "   # return address.replace(\".\",\"[.]\")\n",
    "\n",
    "address = \"255.100.50.0\"  \n",
    "defangIPaddr(address)"
   ]
  },
  {
   "cell_type": "code",
   "execution_count": 62,
   "metadata": {},
   "outputs": [
    {
     "data": {
      "text/plain": [
       "[4, 0, 1, 1, 3]"
      ]
     },
     "execution_count": 62,
     "metadata": {},
     "output_type": "execute_result"
    }
   ],
   "source": [
    "def smallerNumbersThanCurrent(N):      \n",
    "    l =[]\n",
    "    for i in N:\n",
    "        count = 0\n",
    "        for j in N:           \n",
    "            if i > j:\n",
    "                count += 1\n",
    "        l.append(count) \n",
    "    return l    \n",
    "nums = [8,1,2,2,3]\n",
    "smallerNumbersThanCurrent(nums)    "
   ]
  },
  {
   "cell_type": "code",
   "execution_count": 84,
   "metadata": {},
   "outputs": [
    {
     "data": {
      "text/plain": [
       "'leetcode'"
      ]
     },
     "execution_count": 84,
     "metadata": {},
     "output_type": "execute_result"
    }
   ],
   "source": [
    "def restoreString(s, indices):\n",
    "    result = ['']*(len(s))\n",
    "    for i in range(len(s)):\n",
    "        result[indices[i]] = s[i]\n",
    "    return ''.join(result)    \n",
    "                   \n",
    "s = \"codeleet\"\n",
    "indices = [4,5,6,7,0,2,1,3]   \n",
    "restoreString(s,indices)"
   ]
  },
  {
   "cell_type": "code",
   "execution_count": 49,
   "metadata": {},
   "outputs": [
    {
     "data": {
      "text/plain": [
       "3"
      ]
     },
     "execution_count": 49,
     "metadata": {},
     "output_type": "execute_result"
    }
   ],
   "source": [
    "def numJewelsInStones(J,S):\n",
    "    return sum([1 for i in S if i in J])\n",
    "\n",
    "J = \"aA\"\n",
    "S = \"aAAbbbb\"\n",
    "numJewelsInStones(J,S)"
   ]
  },
  {
   "cell_type": "code",
   "execution_count": 88,
   "metadata": {},
   "outputs": [
    {
     "data": {
      "text/plain": [
       "6"
      ]
     },
     "execution_count": 88,
     "metadata": {},
     "output_type": "execute_result"
    }
   ],
   "source": [
    "def numberOfSteps(N):\n",
    "    count = 0\n",
    "    while (N != 0):\n",
    "        if N % 2 == 0:\n",
    "            N = N/2\n",
    "            count += 1\n",
    "        else:\n",
    "            N = N-1\n",
    "            count  +=1\n",
    "    return count           \n",
    "   \n",
    "num = 14\n",
    "numberOfSteps(num)"
   ]
  },
  {
   "cell_type": "code",
   "execution_count": 117,
   "metadata": {},
   "outputs": [
    {
     "data": {
      "text/plain": [
       "15"
      ]
     },
     "execution_count": 117,
     "metadata": {},
     "output_type": "execute_result"
    }
   ],
   "source": [
    "def subtractProductAndSum(N):\n",
    "    result = 1\n",
    "    for i in str(N):\n",
    "        result = result * int(i)\n",
    "        \n",
    "    return result -(sum(int(i) for i in str(N)))\n",
    "\n",
    "subtractProductAndSum(234)"
   ]
  },
  {
   "cell_type": "code",
   "execution_count": 144,
   "metadata": {},
   "outputs": [
    {
     "data": {
      "text/plain": [
       "[2, 4, 4, 4]"
      ]
     },
     "execution_count": 144,
     "metadata": {},
     "output_type": "execute_result"
    }
   ],
   "source": [
    "def decompressRLElist(l):   \n",
    "    k = []\n",
    "    if r % 2 == 0:\n",
    "        for i in range(0,len(l),2):\n",
    "            m = l[i:i+2]\n",
    "            for j in range (m[0]):\n",
    "                k.append(m[1])\n",
    "        return (k)          \n",
    "\n",
    "nums = [1,2,3,4]\n",
    "decompressRLElist(nums)"
   ]
  },
  {
   "cell_type": "code",
   "execution_count": 150,
   "metadata": {},
   "outputs": [
    {
     "data": {
      "text/plain": [
       "[2, 4, 4, 4]"
      ]
     },
     "execution_count": 150,
     "metadata": {},
     "output_type": "execute_result"
    }
   ],
   "source": [
    "def decompressRLElist(l):   \n",
    "    k = []\n",
    "    for i in range(0,len(l)-1, 2):\n",
    "        k += ([l[i+1]]* l[i])\n",
    "    return k\n",
    "\n",
    "nums = [1,2,3,4]\n",
    "decompressRLElist(nums)"
   ]
  },
  {
   "cell_type": "code",
   "execution_count": 142,
   "metadata": {},
   "outputs": [
    {
     "data": {
      "text/plain": [
       "([32, 6], 2)"
      ]
     },
     "execution_count": 142,
     "metadata": {},
     "output_type": "execute_result"
    }
   ],
   "source": [
    "def findEvenDigitNumber(L):\n",
    "    lst = []\n",
    "    count = 0\n",
    "    for i in range(len(L)):\n",
    "        if L[i] %2 ==0:\n",
    "            count += 1\n",
    "            lst.append(L[i])\n",
    "    return lst, count     \n",
    "L = [32,431,51,6,55]\n",
    "findEvenDigitNumber(L)"
   ]
  },
  {
   "cell_type": "code",
   "execution_count": 144,
   "metadata": {},
   "outputs": [
    {
     "data": {
      "text/plain": [
       "(3, [32, 51, 55])"
      ]
     },
     "execution_count": 144,
     "metadata": {},
     "output_type": "execute_result"
    }
   ],
   "source": [
    "def findEvenDigitlength(L):\n",
    "    count = 0\n",
    "    lst = []\n",
    "    for i in range (len(L)):\n",
    "        if len(str(L[i])) % 2 ==0:\n",
    "            count +=1 \n",
    "            lst.append(L[i])\n",
    "    return count, lst        \n",
    "  \n",
    "L = [32,431,51,6,55]\n",
    "findEvenDigitlength(L)"
   ]
  },
  {
   "cell_type": "code",
   "execution_count": 146,
   "metadata": {},
   "outputs": [
    {
     "data": {
      "text/plain": [
       "8"
      ]
     },
     "execution_count": 146,
     "metadata": {},
     "output_type": "execute_result"
    }
   ],
   "source": [
    "def countNegative(L):\n",
    "    count =0 \n",
    "    row = len(L)\n",
    "    col = len(L[0])\n",
    "    for i in range(row):\n",
    "        for j in range(col):\n",
    "            if L[i][j] < 0:\n",
    "                count +=1\n",
    "    return count\n",
    "lst = [[4,3,2,-1],[3,2,1,-1],[1,1,-1,-2],[-1,-1,-2,-3]]\n",
    "countNegative(lst)"
   ]
  },
  {
   "cell_type": "code",
   "execution_count": 1,
   "metadata": {},
   "outputs": [
    {
     "data": {
      "text/plain": [
       "[1, 3, 6, 10, 15]"
      ]
     },
     "execution_count": 1,
     "metadata": {},
     "output_type": "execute_result"
    }
   ],
   "source": [
    "def runningsum(N):\n",
    "    lst = []\n",
    "    result = N[0]\n",
    "    lst.append(result)\n",
    "    for i in range(1,len(N)):\n",
    "        result = result +N[i]\n",
    "        lst.append(result)\n",
    "    return lst\n",
    "\n",
    "M = [1,2,3,4,5]\n",
    "runningsum(M)\n",
    "\n",
    "import numpy as np\n",
    "def runningsum(nums):\n",
    "    return np.cumsum(nums)\n",
    "        "
   ]
  },
  {
   "cell_type": "code",
   "execution_count": 5,
   "metadata": {},
   "outputs": [
    {
     "data": {
      "text/plain": [
       "[1, 3, 6, 10, 15]"
      ]
     },
     "execution_count": 5,
     "metadata": {},
     "output_type": "execute_result"
    }
   ],
   "source": [
    "def runningSum(N):\n",
    "    return [N[i] +sum(N[0:i]) for i in range(len(N))]\n",
    "\n",
    "M = [1,2,3,4,5]\n",
    "runningsum(M)"
   ]
  },
  {
   "cell_type": "code",
   "execution_count": 169,
   "metadata": {},
   "outputs": [
    {
     "data": {
      "text/plain": [
       "'loveloveprogrammingprogramming'"
      ]
     },
     "execution_count": 169,
     "metadata": {},
     "output_type": "execute_result"
    }
   ],
   "source": [
    "def replace_vowel(S):\n",
    "    s = S.split()\n",
    "    return \"\". join([s[i+1] if i%2 ==0 else s[i] for i in range(0, len(s))])\n",
    "\n",
    "S = \"i love python programming \"\n",
    "replace_vowel(S)"
   ]
  },
  {
   "cell_type": "code",
   "execution_count": 166,
   "metadata": {},
   "outputs": [
    {
     "name": "stdout",
     "output_type": "stream",
     "text": [
      "['i', 'love', 'python', 'programming']\n"
     ]
    },
    {
     "data": {
      "text/plain": [
       "'loveiprogrammingpython'"
      ]
     },
     "execution_count": 166,
     "metadata": {},
     "output_type": "execute_result"
    }
   ],
   "source": [
    "def swap_words(S):\n",
    "    s =S.split()\n",
    "    print(s)\n",
    "    str1 = ''\n",
    "    for i in range (0, len(s)-1):\n",
    "        if i %2 ==0:\n",
    "            s[i],s[i+1] = s[i+1],s[i]\n",
    "            str1 += s[i]+s[i+1] \n",
    "    return str1 \n",
    "\n",
    "S = \"i love python programming \"\n",
    "swap_words(S)"
   ]
  },
  {
   "cell_type": "code",
   "execution_count": 118,
   "metadata": {},
   "outputs": [
    {
     "data": {
      "text/plain": [
       "40"
      ]
     },
     "execution_count": 118,
     "metadata": {},
     "output_type": "execute_result"
    }
   ],
   "source": [
    "def index_multiplier(lst):\n",
    "    total = 0\n",
    "    for i in range(len(lst)):\n",
    "        total = total +lst[i]* i\n",
    "    return total    \n",
    "        \n",
    "index_multiplier([1,2,3,4,5])"
   ]
  },
  {
   "cell_type": "code",
   "execution_count": 20,
   "metadata": {},
   "outputs": [
    {
     "name": "stdout",
     "output_type": "stream",
     "text": [
      "{'g': 2, 'r': 3, 'e': 4, 'k': 2, 'f': 1, 'o': 1}\n",
      "Max of all character: e\n"
     ]
    }
   ],
   "source": [
    "def occurance(s):\n",
    "    d= {}\n",
    "    for i in s:\n",
    "        if i.lower() in d:\n",
    "            d[i.lower()]+= 1\n",
    "        else:\n",
    "            d[i.lower()] =1\n",
    "    print(str (d)) \n",
    "    print(\"Max of all character: \" + str(max(d,key =d.get)))\n",
    "s1 = \"Greekforgreek\" \n",
    "occurance(s1)      "
   ]
  },
  {
   "cell_type": "code",
   "execution_count": 140,
   "metadata": {},
   "outputs": [
    {
     "name": "stdout",
     "output_type": "stream",
     "text": [
      "{'m': 1, 'a': 1, 'g': 1, 'o': 1}\n"
     ]
    },
    {
     "data": {
      "text/plain": [
       "'mago'"
      ]
     },
     "execution_count": 140,
     "metadata": {},
     "output_type": "execute_result"
    }
   ],
   "source": [
    "def removeduplicate(Str):\n",
    "    d = {}\n",
    "    for s in Str:\n",
    "        if s not in d:\n",
    "            d[s] =1\n",
    "    print(d)\n",
    "    return ''.join(i for i in d)    \n",
    "S= \"mamgog\"\n",
    "removeduplicate(S)     "
   ]
  },
  {
   "cell_type": "code",
   "execution_count": 137,
   "metadata": {},
   "outputs": [
    {
     "data": {
      "text/plain": [
       "'ruti'"
      ]
     },
     "execution_count": 137,
     "metadata": {},
     "output_type": "execute_result"
    }
   ],
   "source": [
    "def removeduplicates(Str):\n",
    "    stack = []\n",
    "    for s in Str:\n",
    "        if stack and stack[-1] == s:\n",
    "            stack.pop()\n",
    "        else:\n",
    "            stack.append(s)\n",
    "    return ''.join(stack)        \n",
    "M= \"ttruppti\"\n",
    "removeduplicates(M)         \n",
    "    "
   ]
  },
  {
   "cell_type": "code",
   "execution_count": 30,
   "metadata": {},
   "outputs": [
    {
     "name": "stdout",
     "output_type": "stream",
     "text": [
      "e\n"
     ]
    },
    {
     "data": {
      "text/plain": [
       "Counter({'G': 1, 'r': 3, 'e': 4, 'k': 2, 'f': 1, 'o': 1, 'g': 1})"
      ]
     },
     "execution_count": 30,
     "metadata": {},
     "output_type": "execute_result"
    }
   ],
   "source": [
    "from collections import Counter\n",
    "def occurance(s):\n",
    "    r =Counter(s) \n",
    "    print (max(r, key =r.get))\n",
    "    return r\n",
    "s1 = \"Greekforgreek\" \n",
    "occurance(s1)  "
   ]
  },
  {
   "cell_type": "code",
   "execution_count": 24,
   "metadata": {},
   "outputs": [
    {
     "name": "stdout",
     "output_type": "stream",
     "text": [
      "['a', 'ab', 'aba', 'abab', 'ababa', 'ababab', 'abababa', 'b', 'ba', 'bab', 'baba', 'babab', 'bababa', 'a', 'ab', 'aba', 'abab', 'ababa', 'b', 'ba', 'bab', 'baba', 'a', 'ab', 'aba', 'b', 'ba', 'a']\n",
      "{'a': 4, 'ab': 3, 'aba': 3, 'abab': 2, 'ababa': 2, 'ababab': 1, 'abababa': 1, 'b': 3, 'ba': 3, 'bab': 2, 'baba': 2, 'babab': 1, 'bababa': 1}\n"
     ]
    }
   ],
   "source": [
    "#All substrings Frequency in String Using loop + list comprehension\n",
    "def substr(s):\n",
    "    L = []\n",
    "    for i in range(len(s)):\n",
    "        for j in range (i+1, len(s)+1):\n",
    "            L.append(s[i:j])\n",
    "    print(L)  \n",
    "    d ={}\n",
    "    for l in L: \n",
    "        if l in d:\n",
    "            d[l] +=1\n",
    "        else:\n",
    "            d[l] =1\n",
    "    print(str(d))       \n",
    "S = \"abababa\"\n",
    "substr(S)"
   ]
  },
  {
   "cell_type": "code",
   "execution_count": 1,
   "metadata": {},
   "outputs": [
    {
     "data": {
      "text/plain": [
       "4"
      ]
     },
     "execution_count": 1,
     "metadata": {},
     "output_type": "execute_result"
    }
   ],
   "source": [
    "def occurance(lst,x):\n",
    "    count = 0\n",
    "    for i in lst:\n",
    "        if x == i:\n",
    "            count +=1\n",
    "    return count\n",
    "lst = [1,2,3,4,5,6,7,1,1,1]\n",
    "x = 1\n",
    "occurance(lst,x)"
   ]
  },
  {
   "cell_type": "code",
   "execution_count": 2,
   "metadata": {},
   "outputs": [
    {
     "data": {
      "text/plain": [
       "4"
      ]
     },
     "execution_count": 2,
     "metadata": {},
     "output_type": "execute_result"
    }
   ],
   "source": [
    "def occurance(lst,x):\n",
    "    return lst.count(x)\n",
    "lst = [1,2,3,4,5,6,7,1,1,1]\n",
    "x = 1\n",
    "occurance(lst,x)"
   ]
  },
  {
   "cell_type": "code",
   "execution_count": 6,
   "metadata": {},
   "outputs": [
    {
     "name": "stdout",
     "output_type": "stream",
     "text": [
      "[1, 2, 3, 4, 5, 6, 7, 1, 1, 1, 0, 0, 0]\n"
     ]
    }
   ],
   "source": [
    "def move_zeros(lst):\n",
    "    count = 0\n",
    "    for i in range (0,len(lst)):\n",
    "        if lst[i] != 0:\n",
    "            lst[count] = lst[i]\n",
    "            count +=1\n",
    "            \n",
    "    while count < len(lst):\n",
    "        lst [count] = 0\n",
    "        count +=1\n",
    "lst = [0,1,2,0,3,4,0,5,6,7,1,1,1]\n",
    "move_zeros(lst)\n",
    "print (lst)"
   ]
  },
  {
   "cell_type": "code",
   "execution_count": 130,
   "metadata": {},
   "outputs": [
    {
     "data": {
      "text/plain": [
       "'()()()'"
      ]
     },
     "execution_count": 130,
     "metadata": {},
     "output_type": "execute_result"
    }
   ],
   "source": [
    "def small_groups(Str):\n",
    "    total,index, lst= 0,0,[]\n",
    "    for i in range(len(Str)):\n",
    "        if Str[i] ==\"(\":\n",
    "            total +=1\n",
    "        else:\n",
    "            total -= 1\n",
    "         \n",
    "        if total == 0:\n",
    "            lst.append(Str[index: i+1])\n",
    "            index = i +1\n",
    "    return lst\n",
    "def removeOuterParentheses(S):\n",
    "    return ''.join(sub_str[1:-1] for sub_str in small_groups(S))\n",
    "\n",
    "M =\"(()())(())\"  \n",
    "removeOuterParentheses(M)    "
   ]
  },
  {
   "cell_type": "code",
   "execution_count": 10,
   "metadata": {},
   "outputs": [
    {
     "name": "stdout",
     "output_type": "stream",
     "text": [
      "[1, 2, 4, 5, 8]\n"
     ]
    }
   ],
   "source": [
    "def bubble_sort(lst):\n",
    "    swapped = True\n",
    "    while (swapped):\n",
    "        swapped = False\n",
    "        for i in range (len(lst)-1):\n",
    "            if lst[i]>lst[i+1]:\n",
    "                lst[i],lst[i+1] =lst[i+1], lst[i]\n",
    "                swapped=True\n",
    "                \n",
    "random_list_of_nums = [5, 2, 1, 8, 4]\n",
    "bubble_sort(random_list_of_nums)\n",
    "print(random_list_of_nums)                   \n",
    "        "
   ]
  },
  {
   "cell_type": "code",
   "execution_count": 26,
   "metadata": {},
   "outputs": [
    {
     "name": "stdout",
     "output_type": "stream",
     "text": [
      "[3, 8, 11, 12, 20]\n"
     ]
    }
   ],
   "source": [
    "def selection_sort(nums):\n",
    "    for i in range(len(nums)):\n",
    "        lowest_value_index = i\n",
    "        for j in range (i+1, len(nums)):\n",
    "            if nums[j] < nums[lowest_value_index]:\n",
    "                lowest_value_index = j\n",
    "                \n",
    "        nums[i], nums[lowest_value_index]=nums[lowest_value_index], nums[i]\n",
    "        \n",
    "random_list_of_nums = [12, 8, 3, 20, 11]\n",
    "selection_sort(random_list_of_nums)\n",
    "print(random_list_of_nums)   \n",
    "\n",
    "#o(n**2)    "
   ]
  },
  {
   "cell_type": "code",
   "execution_count": 28,
   "metadata": {},
   "outputs": [
    {
     "name": "stdout",
     "output_type": "stream",
     "text": [
      "[1, 6, 9, 15, 28]\n"
     ]
    }
   ],
   "source": [
    "def insertion_sort(nums):\n",
    "    for i in range (1,len(nums)):\n",
    "        item_to_insert = nums[i]\n",
    "        j = i -1\n",
    "        while j>=0 and nums[j] > item_to_insert:\n",
    "            nums[j+1] = nums[j]\n",
    "            j = j-1\n",
    "            \n",
    "        nums[j+1] = item_to_insert\n",
    "        \n",
    "    \n",
    "# Verify it works\n",
    "random_list_of_nums = [9, 1, 15, 28, 6]\n",
    "insertion_sort(random_list_of_nums)\n",
    "print(random_list_of_nums)"
   ]
  },
  {
   "cell_type": "code",
   "execution_count": 9,
   "metadata": {},
   "outputs": [
    {
     "name": "stdout",
     "output_type": "stream",
     "text": [
      "Given Linked List\n",
      "50\n",
      "40\n",
      "30\n",
      "20\n",
      "\n",
      "Reversed Linked List\n",
      "20\n",
      "30\n",
      "40\n",
      "50\n"
     ]
    }
   ],
   "source": [
    "class Node:\n",
    "    def __init__(self,data):\n",
    "        self.data = data\n",
    "        self.next = None\n",
    "\n",
    "class LinkedList():\n",
    "    def __init__(self):\n",
    "        self.head = None\n",
    "        \n",
    "    def push(self, new_data):\n",
    "        new_node = Node(new_data)\n",
    "        new_node.next = self.head\n",
    "        self.head = new_node\n",
    "        \n",
    "    def printlist(self):\n",
    "        temp = self.head\n",
    "        while(temp):\n",
    "            print(temp.data)\n",
    "            temp = temp.next\n",
    "            \n",
    "    def reverseList(self):\n",
    "        prev= None\n",
    "        current = self.head\n",
    "        while(current):\n",
    "            next = current.next\n",
    "            current.next = prev\n",
    "            prev = current\n",
    "            current = next\n",
    "        self.head =prev\n",
    "        \n",
    "    def removeFromEnd(self, head, N):\n",
    "        slow = fast = self.head\n",
    "        for i in range(N):\n",
    "            fast = fast.next\n",
    "        if not fast:\n",
    "            return slow.next\n",
    "        while(fast.next):\n",
    "            slow = slow.next\n",
    "            fast = fast.next\n",
    "            \n",
    "        slow.next = slow.next.next\n",
    "        return head  \n",
    "       \n",
    "llist = LinkedList()\n",
    "llist.push(20)\n",
    "llist.push(30)\n",
    "llist.push(40)\n",
    "llist.push(50)\n",
    "        \n",
    "print (\"Given Linked List\")\n",
    "llist.printlist() \n",
    "llist.reverseList() \n",
    "print (\"\\nReversed Linked List\")\n",
    "llist.printlist() \n",
    "#llist.removeFromEnd(2)\n",
    "          "
   ]
  },
  {
   "cell_type": "code",
   "execution_count": 94,
   "metadata": {},
   "outputs": [
    {
     "name": "stdout",
     "output_type": "stream",
     "text": [
      "Given Linked List\n",
      "90\n",
      "85\n",
      "15\n",
      "4\n",
      "20\n",
      "\n",
      "Reversed Linked List\n",
      "20\n",
      "4\n",
      "15\n",
      "85\n",
      "90\n"
     ]
    },
    {
     "data": {
      "text/plain": [
       "15"
      ]
     },
     "execution_count": 94,
     "metadata": {},
     "output_type": "execute_result"
    }
   ],
   "source": [
    "# Node class  \n",
    "class Node: \n",
    "  \n",
    "    # Constructor to initialize the node object \n",
    "    def __init__(self, data): \n",
    "        self.data = data \n",
    "        self.next = None\n",
    "class LinkedList:   \n",
    "    # Function to initialize head \n",
    "    def __init__(self): \n",
    "        self.head = None\n",
    "      # Function to reverse the linked list \n",
    "    def reverse(self): \n",
    "        prev = None\n",
    "        current = self.head \n",
    "        while(current is not None): \n",
    "            next = current.next\n",
    "            current.next = prev \n",
    "            prev = current \n",
    "            current = next\n",
    "        self.head = prev \n",
    "    # Function to insert a new node at the beginning \n",
    "    def push(self, new_data): \n",
    "        new_node = Node(new_data) \n",
    "        new_node.next = self.head \n",
    "        self.head = new_node \n",
    "     # Utility function to print the linked LinkedList \n",
    "    def printList(self): \n",
    "        temp = self.head \n",
    "        while(temp): \n",
    "            print (temp.data)\n",
    "            temp = temp.next\n",
    "    def middleNode(self):\n",
    "        A = []\n",
    "        temp = self.head\n",
    "        while(temp):\n",
    "            A.append(temp.data)\n",
    "            temp = temp.next\n",
    "        n = len(A)//2\n",
    "        return A[n]\n",
    "            \n",
    "   \n",
    "# Driver program to test above functions \n",
    "llist = LinkedList() \n",
    "llist.push(20) \n",
    "llist.push(4) \n",
    "llist.push(15) \n",
    "llist.push(85) \n",
    "llist.push(90)\n",
    "  \n",
    "print (\"Given Linked List\")\n",
    "llist.printList() \n",
    "llist.reverse() \n",
    "print (\"\\nReversed Linked List\")\n",
    "llist.printList() \n",
    "\n",
    "llist.middleNode()\n",
    "  "
   ]
  },
  {
   "cell_type": "code",
   "execution_count": 81,
   "metadata": {},
   "outputs": [
    {
     "name": "stdout",
     "output_type": "stream",
     "text": [
      "70 60 50 40 30 20 10 No loop\n",
      "70 60 50 40 30 10 "
     ]
    }
   ],
   "source": [
    "class Node:\n",
    "    def __init__(self, data):\n",
    "        self.data = data\n",
    "        self.next = None\n",
    "class linkedList:\n",
    "    def __init__(self):\n",
    "        self.head =None\n",
    "    def push(self, new_element):\n",
    "        new_node = Node(new_element)\n",
    "        new_node.next = self.head\n",
    "        self.head = new_node\n",
    "    def printlist(self):\n",
    "        temp = self.head\n",
    "        while(temp):\n",
    "            print(temp.data, end =' ')\n",
    "            temp = temp.next\n",
    "    def detectloop(self):\n",
    "        #if head is None:\n",
    "            #return False\n",
    "        slow = fast = self.head\n",
    "        while (slow and fast and fast.next):\n",
    "            slow = slow.next\n",
    "            fast = fast.next.next\n",
    "            if slow == fast:\n",
    "                return True\n",
    "        return False\n",
    "    \n",
    "    def removeFromEnd(self, N):\n",
    "        slow = fast = self.head\n",
    "        for i in range(n):\n",
    "            fast = fast.next\n",
    "            if not fast:\n",
    "                return slow.next\n",
    "        while fast.next:\n",
    "            slow = slow.next\n",
    "            fast = fast.next\n",
    "        slow.next == slow.next.next\n",
    "        return self.head   \n",
    "    #working\n",
    "    def removeNthFromEnd(self, n):\n",
    "        slow = self.head # finally point to the previous node of the target node\n",
    "        fast = self.head # finally point to the last node\n",
    "        for i in range(n): # let the fast pointer move n steps ahead of the slow pointer\n",
    "            fast = fast.next\n",
    "        \n",
    "        # This situation would happen when we are required to del the first node (n = len(List))\n",
    "        # Also, it can handle the [] case\n",
    "        if not fast:\n",
    "            return slow.next\n",
    "        \n",
    "        while fast.next:\n",
    "            fast = fast.next\n",
    "            slow = slow.next\n",
    "            \n",
    "        slow.next = slow.next.next\n",
    "        return self.head\n",
    "            \n",
    "l = linkedList() \n",
    "l.push(10)\n",
    "l.push(20)\n",
    "l.push(30)\n",
    "l.push(40)\n",
    "l.push(50)\n",
    "l.push(60)\n",
    "l.push(70)\n",
    "l.printlist()   \n",
    "#l.head.next.next.next = l.head\n",
    "if (l.detectloop()):\n",
    "    print(\"detect loop\")\n",
    "else:\n",
    "    print(\"No loop\")\n",
    "#l.removeFromEnd(2)\n",
    "#l.printlist()\n",
    "l.removeNthFromEnd( 2 )\n",
    "l.printlist()"
   ]
  },
  {
   "cell_type": "code",
   "execution_count": 104,
   "metadata": {},
   "outputs": [
    {
     "name": "stdout",
     "output_type": "stream",
     "text": [
      "List:\n",
      "70 10 10 10 30 20 10 List:\n",
      "70 10 30 20 "
     ]
    }
   ],
   "source": [
    "class Node:\n",
    "    def __init__(self, data):\n",
    "        self.data = data\n",
    "        self.next = None\n",
    "class linkedList:\n",
    "    def __init__(self):\n",
    "        self.head =None\n",
    "    def push(self, new_element):\n",
    "        new_node = Node(new_element)\n",
    "        new_node.next = self.head\n",
    "        self.head = new_node\n",
    "    def printlist(self):\n",
    "        temp = self.head\n",
    "        print(\"List:\")\n",
    "        while(temp):\n",
    "            print(temp.data, end =' ')\n",
    "            temp = temp.next\n",
    "    def delete_duplicate(self):\n",
    "        d ={}\n",
    "        curr = self.head\n",
    "        prev = None\n",
    "        while(curr):\n",
    "            if curr.data in d:\n",
    "                prev.next =curr.next\n",
    "                curr = None\n",
    "            else:\n",
    "                d[curr.data] =1\n",
    "                prev = curr   \n",
    "            curr = prev.next  \n",
    "            \n",
    "     \n",
    "l= linkedList() \n",
    "l.push(10)\n",
    "l.push(20)\n",
    "l.push(30)\n",
    "l.push(10)\n",
    "l.push(10)\n",
    "l.push(10)\n",
    "l.push(70)\n",
    "l.printlist()  \n",
    "l.delete_duplicate()\n",
    "l.printlist()"
   ]
  },
  {
   "cell_type": "code",
   "execution_count": 99,
   "metadata": {},
   "outputs": [
    {
     "name": "stdout",
     "output_type": "stream",
     "text": [
      "List:\n",
      "70 10 10 10 30 20 10 List:\n",
      "70 10 30 20 10 "
     ]
    }
   ],
   "source": [
    "class Node:\n",
    "    def __init__(self, data):\n",
    "        self.data = data\n",
    "        self.next = None\n",
    "class linkedList:\n",
    "    def __init__(self):\n",
    "        self.head =None\n",
    "    def push(self, new_element):\n",
    "        new_node = Node(new_element)\n",
    "        new_node.next = self.head\n",
    "        self.head = new_node\n",
    "    def printlist(self):\n",
    "        temp = self.head\n",
    "        print(\"List:\")\n",
    "        while(temp):\n",
    "            print(temp.data, end =' ')\n",
    "            temp = temp.next\n",
    "    def delete_duplicate(self):\n",
    "        curr = self.head\n",
    "        while(curr.next):\n",
    "            if curr.data == curr.next.data:\n",
    "                curr.next = curr.next.next\n",
    "            else:\n",
    "                curr = curr.next\n",
    "        return self.head\n",
    "    \n",
    "l = linkedList() \n",
    "l.push(10)\n",
    "l.push(20)\n",
    "l.push(30)\n",
    "l.push(10)\n",
    "l.push(10)\n",
    "l.push(10)\n",
    "l.push(70)\n",
    "l.printlist()  \n",
    "l.delete_duplicate()\n",
    "l.printlist()"
   ]
  },
  {
   "cell_type": "code",
   "execution_count": null,
   "metadata": {},
   "outputs": [],
   "source": [
    "def detectcycle(self, head):\n",
    "    if head is None:\n",
    "        return False\n",
    "    slow = head\n",
    "    fast = head.next\n",
    "    while(slow and fast and fast.next):\n",
    "        if slow ==fast:\n",
    "            return Truew\n",
    "        slow = slow.next\n",
    "        fast= fast.next.next\n",
    "        \n",
    "    return False                   "
   ]
  },
  {
   "cell_type": "code",
   "execution_count": 10,
   "metadata": {},
   "outputs": [
    {
     "name": "stdout",
     "output_type": "stream",
     "text": [
      "Number of inversions are 5\n"
     ]
    }
   ],
   "source": [
    "def getInvCount(arr,n):\n",
    "    total = 0\n",
    "    for i in range(0,n):\n",
    "        for j in range (i+1, n):\n",
    "            if arr[i]>arr[j]:\n",
    "                total +=1\n",
    "    return total            \n",
    "                \n",
    "arr = [1, 20, 6, 4, 5] \n",
    "n = len(arr) \n",
    "print(\"Number of inversions are\", \n",
    "              getInvCount(arr, n))"
   ]
  },
  {
   "cell_type": "code",
   "execution_count": 33,
   "metadata": {},
   "outputs": [
    {
     "name": "stdout",
     "output_type": "stream",
     "text": [
      "89\n"
     ]
    }
   ],
   "source": [
    "def get_fibonacci(n):\n",
    "    if n ==1:\n",
    "        return 1\n",
    "    elif n ==0:\n",
    "        return 0\n",
    "    elif n <0:\n",
    "        return -1\n",
    "    else:\n",
    "        return (get_fibonacci(n-1)+get_fibonacci(n-2))\n",
    "    \n",
    "print(get_fibonacci(11))"
   ]
  },
  {
   "cell_type": "code",
   "execution_count": 45,
   "metadata": {},
   "outputs": [
    {
     "name": "stdout",
     "output_type": "stream",
     "text": [
      "1\n",
      "1\n",
      "2\n",
      "3\n",
      "4\n",
      "5\n"
     ]
    }
   ],
   "source": [
    "class Queue(object):\n",
    "    def __init__(self, head=None):\n",
    "        self.storage = [head]\n",
    "\n",
    "    def enqueue(self, new_element):\n",
    "        self.storage.append(new_element)\n",
    "\n",
    "    def peek(self):\n",
    "        return self.storage[0]\n",
    "\n",
    "    def dequeue(self):\n",
    "        return self.storage.pop(0)\n",
    "    \n",
    "# Setup\n",
    "q = Queue(1)\n",
    "q.enqueue(2)\n",
    "q.enqueue(3)\n",
    "# Test peek\n",
    "# Should be 1\n",
    "print(q.peek())\n",
    "# Test dequeue\n",
    "# Should be 1\n",
    "print(q.dequeue())\n",
    "# Test enqueue\n",
    "q.enqueue(4)\n",
    "# Should be 2\n",
    "print(q.dequeue())\n",
    "# Should be 3\n",
    "print(q.dequeue())\n",
    "# Should be 4\n",
    "print(q.dequeue())\n",
    "q.enqueue(5)\n",
    "# Should be 5\n",
    "print(q.peek())"
   ]
  },
  {
   "cell_type": "code",
   "execution_count": 11,
   "metadata": {},
   "outputs": [
    {
     "name": "stdout",
     "output_type": "stream",
     "text": [
      "3\n"
     ]
    }
   ],
   "source": [
    "# Python3 program to find maximum length subarray having non zero product \n",
    "def maxlengh(A,N):\n",
    "    zeroindex = []\n",
    "    for i in range(N):\n",
    "        if arr[i] ==0:\n",
    "            zeroindex.append(i)\n",
    "    if (len(zeroindex) == 0):\n",
    "        maxlen =N\n",
    "    else:\n",
    "        maxlen = zeroindex[0]\n",
    "    for i in range(0,len(zeroindex)-1):    \n",
    "        if(zeroindex[i+1] - zeroindex[i]-1> maxlen):\n",
    "            maxlen= zeroindex[i+1]-zeroindex[i]-1\n",
    "            \n",
    "        if(N - zeroindex[len(zeroindex) - 1]-1 > maxlen):\n",
    "            maxlen= N-zeroindex[len(zeroindex) -1] -1\n",
    "    print(maxlen)          \n",
    "    \n",
    "if __name__== \"__main__\":\n",
    "    n=9\n",
    "    arr = [7,1,0,1,2,0,9,2,1]\n",
    "    maxlengh(arr,n)"
   ]
  },
  {
   "cell_type": "code",
   "execution_count": 123,
   "metadata": {},
   "outputs": [
    {
     "data": {
      "text/plain": [
       "5"
      ]
     },
     "execution_count": 123,
     "metadata": {},
     "output_type": "execute_result"
    }
   ],
   "source": [
    "#Maximum sum subarray problem\n",
    "def kadane(A):\n",
    "    max_current= max_global = A[0]\n",
    "    for i in range(1, len(A)):\n",
    "        max_current = max(A[i], max_current+A[i])\n",
    "        if max_global < max_current:\n",
    "            max_global = max_current\n",
    "    return max_global   \n",
    "A =[-2,3,2,-1]\n",
    "kadane(A)\n",
    "        "
   ]
  },
  {
   "cell_type": "code",
   "execution_count": null,
   "metadata": {},
   "outputs": [],
   "source": []
  }
 ],
 "metadata": {
  "kernelspec": {
   "display_name": "Python 3",
   "language": "python",
   "name": "python3"
  },
  "language_info": {
   "codemirror_mode": {
    "name": "ipython",
    "version": 3
   },
   "file_extension": ".py",
   "mimetype": "text/x-python",
   "name": "python",
   "nbconvert_exporter": "python",
   "pygments_lexer": "ipython3",
   "version": "3.7.6"
  }
 },
 "nbformat": 4,
 "nbformat_minor": 4
}
