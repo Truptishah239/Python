{
 "cells": [
  {
   "cell_type": "code",
   "execution_count": 97,
   "metadata": {},
   "outputs": [
    {
     "name": "stdout",
     "output_type": "stream",
     "text": [
      "True\n",
      "B\n",
      "['A', 'B']\n"
     ]
    },
    {
     "data": {
      "text/plain": [
       "['A']"
      ]
     },
     "execution_count": 97,
     "metadata": {},
     "output_type": "execute_result"
    }
   ],
   "source": [
    "class stack():\n",
    "    def __init__(self):\n",
    "        self.items =[]\n",
    "        \n",
    "    def push(self, item):\n",
    "        self.items.append(item)\n",
    "        \n",
    "    def pop(self):\n",
    "        return self.items.pop()\n",
    "    \n",
    "    def is_empty(self):\n",
    "        return self.items == []\n",
    "    \n",
    "    def peek(self):\n",
    "        if not self.is_empty():\n",
    "            return self.items[-1]\n",
    "        \n",
    "    def get_stack(self):\n",
    "        return self.items\n",
    "    \n",
    "s = stack()\n",
    "print(s.is_empty())\n",
    "s.push('A')\n",
    "s.push(\"B\")\n",
    "print(s.peek())\n",
    "print(s.get_stack())\n",
    "s.pop()\n",
    "s.get_stack()"
   ]
  },
  {
   "cell_type": "code",
   "execution_count": 2,
   "metadata": {},
   "outputs": [
    {
     "data": {
      "text/plain": [
       "'()()()'"
      ]
     },
     "execution_count": 2,
     "metadata": {},
     "output_type": "execute_result"
    }
   ],
   "source": [
    "def group(P):\n",
    "    s = []\n",
    "    total = 0\n",
    "    index = 0\n",
    "    \n",
    "    for i in range(len(P)):\n",
    "        if P[i] == '(' :\n",
    "            total += 1\n",
    "        else:\n",
    "            total -=1\n",
    "            \n",
    "        if total == 0:\n",
    "            s.append(P[index:i+1])\n",
    "            index = i +1\n",
    "    return s    \n",
    "    \n",
    "def removeOuterParentheses(P):\n",
    "    return ''.join(sub[1:-1] for sub in group(P))\n",
    "\n",
    "\n",
    "        \n",
    "s = \"(()())(())\"  \n",
    "\n",
    "removeOuterParentheses(s)  "
   ]
  },
  {
   "cell_type": "code",
   "execution_count": 99,
   "metadata": {},
   "outputs": [
    {
     "data": {
      "text/plain": [
       "'11110010'"
      ]
     },
     "execution_count": 99,
     "metadata": {},
     "output_type": "execute_result"
    }
   ],
   "source": [
    "def div_by_2(number):\n",
    "    s = stack()\n",
    "    while (number > 0):\n",
    "        r = number % 2\n",
    "        s.push(r)\n",
    "        number = number//2\n",
    "    \n",
    "    bin_num = ''\n",
    "    while not s.is_empty():\n",
    "        bin_num += str(s.pop())\n",
    "        \n",
    "    return bin_num\n",
    "\n",
    "div_by_2(242)"
   ]
  },
  {
   "cell_type": "code",
   "execution_count": 23,
   "metadata": {},
   "outputs": [
    {
     "data": {
      "text/plain": [
       "True"
      ]
     },
     "execution_count": 23,
     "metadata": {},
     "output_type": "execute_result"
    }
   ],
   "source": [
    "def is_match(p1, p2):\n",
    "    if p1 =='(' and p2 == ')':\n",
    "        return True\n",
    "    if p1 =='[' and p2 == ']':\n",
    "        return True\n",
    "    if p1 =='{' and p2 == '}':\n",
    "        return True\n",
    "    else:\n",
    "        return False\n",
    "    \n",
    "def is_balanced_string(B):\n",
    "    index = 0\n",
    "    is_balanced = True\n",
    "    s = stack()\n",
    "    \n",
    "    while(index < len(B)) and is_balanced:\n",
    "        p = B[index]\n",
    "        if p in '[{(':\n",
    "            s.push(p)\n",
    "        else:\n",
    "            if s.is_empty():\n",
    "                is_balanced = False\n",
    "            else:\n",
    "                top = s.pop()\n",
    "                if not is_match(top, p):\n",
    "                    is_balanced = False\n",
    "        index += 1\n",
    "        \n",
    "    if s.is_empty() and is_balanced:\n",
    "        return True\n",
    "    else:\n",
    "        return False        \n",
    "                    \n",
    "B = ('({[]})')  \n",
    "is_balanced_string(B)"
   ]
  },
  {
   "cell_type": "code",
   "execution_count": 1,
   "metadata": {},
   "outputs": [
    {
     "name": "stdout",
     "output_type": "stream",
     "text": [
      "['c', 'd', 'f']\n"
     ]
    },
    {
     "data": {
      "text/plain": [
       "'cdf'"
      ]
     },
     "execution_count": 1,
     "metadata": {},
     "output_type": "execute_result"
    }
   ],
   "source": [
    "def removeDuplicateChar(S):\n",
    "    stack = []\n",
    "    for c in S:\n",
    "        if stack and stack[-1] == c:\n",
    "            stack.pop()\n",
    "        else:\n",
    "            stack.append(c)\n",
    "    print( stack)\n",
    "    return ''.join(stack)\n",
    "\n",
    "S = 'aabbcdf'\n",
    "removeDuplicateChar(S)"
   ]
  },
  {
   "cell_type": "code",
   "execution_count": 41,
   "metadata": {},
   "outputs": [
    {
     "name": "stdout",
     "output_type": "stream",
     "text": [
      "True\n",
      "None\n",
      "5\n",
      "50\n",
      "10\n"
     ]
    }
   ],
   "source": [
    "class queue():\n",
    "    def __init__(self):\n",
    "        self.items = []\n",
    "       \n",
    "    def enqueue(self, item):\n",
    "        self.items.insert(0,item)\n",
    "        \n",
    "    def isEmpty(self):\n",
    "        return self.items == []\n",
    "    \n",
    "    def dequeue(self):\n",
    "        return self.items.pop()\n",
    "    \n",
    "    def size(self):\n",
    "        return len(self.items)\n",
    "    \n",
    "    def peek(self):\n",
    "        if not self.isEmpty():\n",
    "            return self.items[0]\n",
    "      \n",
    "    \n",
    "q = queue()\n",
    "print(q.isEmpty())\n",
    "print(q.peek())\n",
    "q.enqueue(10)\n",
    "q.enqueue(20)\n",
    "q.enqueue(30)\n",
    "q.enqueue(40)\n",
    "q.enqueue(50)\n",
    "print(q.size())\n",
    "print(q.peek())\n",
    "print(q.dequeue())     "
   ]
  },
  {
   "cell_type": "code",
   "execution_count": 42,
   "metadata": {},
   "outputs": [
    {
     "name": "stdout",
     "output_type": "stream",
     "text": [
      "[7, 9, 12, 15]\n"
     ]
    }
   ],
   "source": [
    "#Bubble Sort # o(n**2)\n",
    "def bubble_sort(L):\n",
    "    swapped = True\n",
    "    while(swapped):\n",
    "        swapped = False\n",
    "        for i in range(0, len(L)-1):\n",
    "            if L[i] > L[i+1]:\n",
    "                L[i], L[i+1] = L[i+1], L[i]\n",
    "                swapped = True                \n",
    "\n",
    "            \n",
    "L = [12,15,7,9]\n",
    "bubble_sort(L)\n",
    "print(L)"
   ]
  },
  {
   "cell_type": "code",
   "execution_count": 46,
   "metadata": {},
   "outputs": [
    {
     "data": {
      "text/plain": [
       "[7, 9, 12, 15]"
      ]
     },
     "execution_count": 46,
     "metadata": {},
     "output_type": "execute_result"
    }
   ],
   "source": [
    "#selection sort #O(n**2)\n",
    "def selection_sort(L):\n",
    "    for i in range (0, len(L)):\n",
    "        min_index =  i\n",
    "        for j in range (i+1, len(L)):\n",
    "            if L[j] < L[min_index]:\n",
    "                min_index = j\n",
    "        L[i], L[min_index] = L[min_index], L[i]\n",
    "    return L    \n",
    "            \n",
    "L = [12,15,7,9]\n",
    "selection_sort(L)\n",
    "                                "
   ]
  },
  {
   "cell_type": "code",
   "execution_count": 51,
   "metadata": {},
   "outputs": [
    {
     "name": "stdout",
     "output_type": "stream",
     "text": [
      "[1, 6, 9, 15, 28]\n"
     ]
    }
   ],
   "source": [
    "#In the worst case scenario, the inner for loop would swap once, then swap two and so forth. The amount of swaps would then be 1 + 2 + ... + (n - 3) + (n - 2) + (n - 1)\n",
    "#which gives Insertion Sort a time complexity of O(n^2).\n",
    "def insertion_sort(nums):\n",
    "    # Start on the second element as we assume the first element is sorted\n",
    "    for i in range(1, len(nums)):\n",
    "        item_to_insert = nums[i]\n",
    "        # And keep a reference of the index of the previous element\n",
    "        j = i - 1\n",
    "        # Move all items of the sorted segment forward if they are larger than\n",
    "        # the item to insert\n",
    "        while j >= 0 and nums[j] > item_to_insert:\n",
    "            nums[j + 1] = nums[j]\n",
    "            j -= 1\n",
    "        # Insert the item\n",
    "        nums[j + 1] = item_to_insert\n",
    "\n",
    "\n",
    "# Verify it works\n",
    "random_list_of_nums = [9, 1, 15, 28, 6]   \n",
    "insertion_sort(random_list_of_nums)\n",
    "print(random_list_of_nums)"
   ]
  },
  {
   "cell_type": "code",
   "execution_count": 88,
   "metadata": {},
   "outputs": [
    {
     "name": "stdout",
     "output_type": "stream",
     "text": [
      "Given Linked List\n",
      "10\n",
      "20\n",
      "30\n",
      "40\n",
      "50\n",
      "60\n",
      "70\n",
      "80\n",
      "90\n",
      "Given Linked List using push\n",
      "90\n",
      "80\n",
      "70\n",
      "60\n",
      "50\n",
      "40\n",
      "30\n",
      "20\n",
      "10\n"
     ]
    }
   ],
   "source": [
    "class Node():\n",
    "    def __init__(self, data=None, next=None):\n",
    "        self.data= data\n",
    "        self.next = None\n",
    "        \n",
    "class LinkedList():\n",
    "    def __init__(self):\n",
    "        self.head = None\n",
    "        \n",
    "    def push(self, new_data):\n",
    "        New_node = Node(new_data)\n",
    "        New_node.next = self.head\n",
    "        self.head = New_node\n",
    "        \n",
    "    def printList(self):\n",
    "        temp = self.head\n",
    "        while(temp):\n",
    "            print(temp.data)\n",
    "            temp = temp.next\n",
    "            \n",
    "    def append(self, data):\n",
    "        node = self.head\n",
    "        if(node == None):\n",
    "            self.head = Node(data)\n",
    "            return\n",
    "        while(node.next):\n",
    "            node = node.next\n",
    "        node.next = Node(data)\n",
    "        return\n",
    "            \n",
    "# Driver program to test above functions \n",
    "print (\"Given Linked List\") \n",
    "l = LinkedList() \n",
    "l.append(10)\n",
    "l.append(20)\n",
    "l.append(30)\n",
    "l.append(40)\n",
    "l.append(50)\n",
    "l.append(60)\n",
    "l.append(70)\n",
    "l.append(80)\n",
    "l.append(90)\n",
    "l.printList()   \n",
    "\n",
    "print (\"Given Linked List using push\") \n",
    "l = LinkedList() \n",
    "l.push(10)\n",
    "l.push(20)\n",
    "l.push(30)\n",
    "l.push(40)\n",
    "l.push(50)\n",
    "l.push(60)\n",
    "l.push(70)\n",
    "l.push(80)\n",
    "l.push(90)\n",
    "l.printList()              "
   ]
  },
  {
   "cell_type": "code",
   "execution_count": 89,
   "metadata": {},
   "outputs": [
    {
     "name": "stdout",
     "output_type": "stream",
     "text": [
      "30\n",
      "70\n",
      "70\n",
      "60\n",
      "50\n",
      "40\n",
      "30\n",
      "20\n",
      "10\n",
      "Remove 2 nd node from Linked List\n",
      "30\n",
      "70\n",
      "70\n",
      "60\n",
      "50\n",
      "40\n",
      "30\n",
      "10\n",
      "Given Middle Node\n",
      "50\n",
      "delete_Duplicates\n",
      "30\n",
      "70\n",
      "60\n",
      "50\n",
      "40\n",
      "30\n",
      "10\n",
      "delete_Duplicates\n",
      "30\n",
      "70\n",
      "60\n",
      "50\n",
      "40\n",
      "10\n"
     ]
    }
   ],
   "source": [
    "class Node():\n",
    "    def __init__(self, data):\n",
    "        self.data= data\n",
    "        self.next = None\n",
    "class LinkedList():\n",
    "    def __init__(self):\n",
    "        self.head = None\n",
    "        \n",
    "    def push(self, new_data):\n",
    "        New_node = Node(new_data)\n",
    "        New_node.next = self.head\n",
    "        self.head = New_node\n",
    "        \n",
    "    def printList(self):\n",
    "        temp = self.head\n",
    "        while(temp):\n",
    "            print(temp.data)\n",
    "            temp = temp.next\n",
    "            \n",
    "    def reverseList(self):\n",
    "        prev = None\n",
    "        current = self.head\n",
    "        while(current):\n",
    "            next = current.next\n",
    "            current.next = prev\n",
    "            prev = current\n",
    "            current = next\n",
    "        self.head = prev  \n",
    "    def removeNthFromEnd(self, N):\n",
    "        slow = fast = self.head # finally point to the previous node of the target node\n",
    "        for i in range(N): # let the fast pointer move n steps ahead of the slow pointer\n",
    "            fast = fast.next\n",
    "        \n",
    "        # This situation would happen when we are required to del the first node (n = len(List))\n",
    "        # Also, it can handle the [] case\n",
    "        if not fast:\n",
    "            return slow.next\n",
    "        \n",
    "        while fast.next:\n",
    "            fast = fast.next\n",
    "            slow = slow.next\n",
    "            \n",
    "        slow.next = slow.next.next\n",
    "        return self.head\n",
    "    def detectLoop(self):\n",
    "        slow = fast = self.head\n",
    "        while(slow and fast and fast.next):\n",
    "            slow = slow.next\n",
    "            fast= fast.next.next\n",
    "            if slow == fast:\n",
    "                return True\n",
    "        return False    \n",
    "    \n",
    "    def MiddleNode(self):\n",
    "        M= []\n",
    "        current = self.head\n",
    "        while(current):\n",
    "            M.append(current.data)\n",
    "            current = current.next\n",
    "            \n",
    "        N = len(M)//2\n",
    "        return M[N]\n",
    "    def delete_duplicate(self):\n",
    "        current = self.head\n",
    "        while(current.next):\n",
    "            if current.data == current.next.data:\n",
    "                current.next = current.next.next\n",
    "            else:\n",
    "                current = current.next\n",
    "        return self.head \n",
    "        \n",
    "    \n",
    "    def delete_duplicate_random(self):\n",
    "        d = {}\n",
    "        prev = None\n",
    "        current = self.head\n",
    "        while(current):\n",
    "            if current.data in d:\n",
    "                prev.next = current.next\n",
    "                current = None\n",
    "            else: \n",
    "                d[current.data] = 1\n",
    "                prev = current\n",
    "            current = prev.next \n",
    "# Driver program to test above functions \n",
    " \n",
    "l = LinkedList() \n",
    "l.push(10)\n",
    "l.push(20)\n",
    "l.push(30)\n",
    "l.push(40)\n",
    "l.push(50)\n",
    "l.push(60)\n",
    "l.push(70)\n",
    "l.push(70)\n",
    "l.push(30)\n",
    "l.printList()  \n",
    "\n",
    "'''\n",
    "print (\"Given Linked List\")\n",
    "llist.printList() \n",
    "llist.reverseList() \n",
    "print (\"\\nReversed Linked List\")\n",
    "llist.printList() \n",
    "#l.head.next.next.next = l.head\n",
    "if (l.detectLoop()):\n",
    "    print(\"detect Loop\")\n",
    "else:\n",
    "    print(\"No Loop\")\n",
    "'''    \n",
    "print (\"Remove 2 nd node from Linked List\")    \n",
    "l.removeNthFromEnd(2)\n",
    "l.printList()\n",
    " \n",
    "print (\"Given Middle Node\")\n",
    "print(l.MiddleNode())\n",
    "\n",
    "print (\"delete_Duplicates\")\n",
    "l.delete_duplicate()\n",
    "l.printList()\n",
    "\n",
    "print (\"delete_Duplicates\")\n",
    "l.delete_duplicate_random()\n",
    "l.printList()\n"
   ]
  },
  {
   "cell_type": "code",
   "execution_count": 90,
   "metadata": {},
   "outputs": [
    {
     "name": "stdout",
     "output_type": "stream",
     "text": [
      "True\n"
     ]
    }
   ],
   "source": [
    "#Now try implementing a BST on your own. You'll use the same Node class as before:\n",
    "class Node(object):\n",
    "    def __init__(self, val):\n",
    "        self.val = val\n",
    "        self.left =None\n",
    "        self.right = None\n",
    "         \n",
    "class BST(object):\n",
    "    def __init__(self, root):\n",
    "        self.root = Node(root)\n",
    "        \n",
    "    def Insert(self, new_val):\n",
    "         self.insert_helper(self.root,new_val)\n",
    "        \n",
    "    def insert_helper(self, current, new_val):\n",
    "        if current.val < new_val:\n",
    "            if current.right:\n",
    "                self.insert_helper(current.right, new_val)\n",
    "            else:\n",
    "                current.right= Node(new_val)\n",
    "        else:\n",
    "            if current.left:\n",
    "                self.insert_helper(current.left,new_val)\n",
    "            else:\n",
    "                current.left =Node(new_val)\n",
    "                \n",
    "    def search(self, find_val):\n",
    "        return self.search_helper(self.root, find_val)\n",
    "    \n",
    "    def search_helper(self,current,find_val):\n",
    "        if current:\n",
    "            if current.val == find_val:\n",
    "                return True\n",
    "            elif current.right:\n",
    "                return self.search_helper(current.right, find_val)\n",
    "            else:\n",
    "                return self.search_helper(current.left, find_val)\n",
    "        return False \n",
    "    \n",
    "T = BST(5)\n",
    "T.root.left= Node(3)\n",
    "T.root.right= Node(7)\n",
    "T.root.left.left= Node(1)\n",
    "T.root.right.right= Node(9)\n",
    "T.Insert(4)\n",
    "T.root.right.left = Node(8)              \n",
    "print(T.search(9))               "
   ]
  },
  {
   "cell_type": "code",
   "execution_count": 100,
   "metadata": {},
   "outputs": [
    {
     "name": "stdout",
     "output_type": "stream",
     "text": [
      "0\n",
      "2\n",
      "11\n",
      "15\n"
     ]
    }
   ],
   "source": [
    "class Classy(object):\n",
    "    def __init__(self):\n",
    "        self.items = []\n",
    "        \n",
    "    def addItem(self,item):\n",
    "        self.items.append(item)\n",
    "        \n",
    "    def getclassiness(self):\n",
    "        classiness = 0\n",
    "        if len(self.items) >0:\n",
    "            for item in self.items:\n",
    "                if item == \"tophat\":\n",
    "                    classiness +=2\n",
    "                elif item == \"bowtie\":\n",
    "                    classiness +=4\n",
    "                elif item == \"monocle\":\n",
    "                    classiness +=5\n",
    "        return classiness    \n",
    "        \n",
    "\n",
    "# Test cases\n",
    "me = Classy()\n",
    "\n",
    "# Should be 0\n",
    "print(me.getclassiness())\n",
    "\n",
    "me.addItem(\"tophat\")\n",
    "# Should be 2\n",
    "print (me.getclassiness())\n",
    "\n",
    "me.addItem(\"bowtie\")\n",
    "me.addItem(\"jacket\")\n",
    "me.addItem(\"monocle\")\n",
    "# Should be 11\n",
    "print (me.getclassiness())\n",
    "\n",
    "me.addItem(\"bowtie\")\n",
    "# Should be 15\n",
    "print (me.getclassiness())"
   ]
  }
 ],
 "metadata": {
  "kernelspec": {
   "display_name": "Python 3",
   "language": "python",
   "name": "python3"
  },
  "language_info": {
   "codemirror_mode": {
    "name": "ipython",
    "version": 3
   },
   "file_extension": ".py",
   "mimetype": "text/x-python",
   "name": "python",
   "nbconvert_exporter": "python",
   "pygments_lexer": "ipython3",
   "version": "3.7.6"
  }
 },
 "nbformat": 4,
 "nbformat_minor": 4
}
