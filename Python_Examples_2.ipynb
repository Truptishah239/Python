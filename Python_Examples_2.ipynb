{
 "cells": [
  {
   "cell_type": "code",
   "execution_count": 55,
   "metadata": {},
   "outputs": [
    {
     "name": "stdout",
     "output_type": "stream",
     "text": [
      "70 60 50 40 30 20 10 \n",
      "\n",
      "New list after removing from end\n",
      "70 60 50 40 30 10 "
     ]
    }
   ],
   "source": [
    "class Node:\n",
    "    def __init__(self, data):\n",
    "        self.data = data\n",
    "        self.next = None\n",
    "        \n",
    "class linkedList:\n",
    "    def __init__(self):\n",
    "        self.head =None\n",
    "    def push(self, new_element):\n",
    "        new_node = Node(new_element)\n",
    "        new_node.next = self.head\n",
    "        self.head = new_node\n",
    "    def printlist(self):\n",
    "        temp = self.head\n",
    "        while(temp):\n",
    "            print(temp.data, end =' ')\n",
    "            temp = temp.next\n",
    "            \n",
    "    def removeNthFromEnd(self, n):\n",
    "        slow = self.head # finally point to the previous node of the target node\n",
    "        fast = self.head # finally point to the last node\n",
    "        for i in range(n): # let the fast pointer move n steps ahead of the slow pointer\n",
    "            fast = fast.next\n",
    "        \n",
    "        # This situation would happen when we are required to del the first node (n = len(List))\n",
    "        # Also, it can handle the [] case\n",
    "        if not fast:\n",
    "            return slow.next\n",
    "        \n",
    "        while fast.next:\n",
    "            fast = fast.next\n",
    "            slow = slow.next\n",
    "            \n",
    "        slow.next = slow.next.next\n",
    "        return self.head\n",
    "    \n",
    "l = linkedList() \n",
    "l.push(10)\n",
    "l.push(20)\n",
    "l.push(30)\n",
    "l.push(40)\n",
    "l.push(50)\n",
    "l.push(60)\n",
    "l.push(70)\n",
    "l.printlist() \n",
    "print(\"\\n\\nNew list after removing from end\")\n",
    "l.removeNthFromEnd( 2 )\n",
    "l.printlist()                    "
   ]
  },
  {
   "cell_type": "code",
   "execution_count": 56,
   "metadata": {},
   "outputs": [
    {
     "name": "stdout",
     "output_type": "stream",
     "text": [
      "Given Linked List\n",
      "90\n",
      "85\n",
      "15\n",
      "4\n",
      "20\n",
      "\n",
      "Reversed Linked List\n",
      "20\n",
      "4\n",
      "15\n",
      "85\n",
      "90\n",
      "\n",
      "Linked List Midle Node\n"
     ]
    },
    {
     "data": {
      "text/plain": [
       "15"
      ]
     },
     "execution_count": 56,
     "metadata": {},
     "output_type": "execute_result"
    }
   ],
   "source": [
    "# Node class  \n",
    "class Node: \n",
    "  \n",
    "    # Constructor to initialize the node object \n",
    "    def __init__(self, data): \n",
    "        self.data = data \n",
    "        self.next = None\n",
    "class LinkedList:   \n",
    "    # Function to initialize head \n",
    "    def __init__(self): \n",
    "        self.head = None\n",
    "      # Function to reverse the linked list \n",
    "    def reverse(self): \n",
    "        prev = None\n",
    "        current = self.head \n",
    "        while(current is not None): \n",
    "            next = current.next\n",
    "            current.next = prev \n",
    "            prev = current \n",
    "            current = next\n",
    "        self.head = prev \n",
    "    # Function to insert a new node at the beginning \n",
    "    def push(self, new_data): \n",
    "        new_node = Node(new_data) \n",
    "        new_node.next = self.head \n",
    "        self.head = new_node \n",
    "     # Utility function to print the linked LinkedList \n",
    "    def printList(self): \n",
    "        temp = self.head \n",
    "        while(temp): \n",
    "            print (temp.data)\n",
    "            temp = temp.next\n",
    "    def middleNode(self):\n",
    "        A = []\n",
    "        temp = self.head\n",
    "        while(temp):\n",
    "            A.append(temp.data)\n",
    "            temp = temp.next\n",
    "        n = len(A)//2\n",
    "        return A[n]\n",
    "            \n",
    "   \n",
    "# Driver program to test above functions \n",
    "llist = LinkedList() \n",
    "llist.push(20) \n",
    "llist.push(4) \n",
    "llist.push(15) \n",
    "llist.push(85) \n",
    "llist.push(90)\n",
    "  \n",
    "print (\"Given Linked List\")\n",
    "llist.printList() \n",
    "llist.reverse() \n",
    "print (\"\\nReversed Linked List\")\n",
    "llist.printList() \n",
    "print (\"\\nLinked List Midle Node\")\n",
    "llist.middleNode()\n",
    "  "
   ]
  },
  {
   "cell_type": "code",
   "execution_count": 59,
   "metadata": {},
   "outputs": [
    {
     "name": "stdout",
     "output_type": "stream",
     "text": [
      "[1, 2, 3, 4, 5, 6, 7, 1, 1, 1, 0, 0, 0]\n"
     ]
    }
   ],
   "source": [
    "#Move zepos at end\n",
    "def move_zeros(lst):\n",
    "    count = 0\n",
    "    for i in range(0, len(lst)):\n",
    "        if lst[i] != 0:\n",
    "            lst[count] =lst[i]\n",
    "            count += 1\n",
    "    while(len(lst) > count):\n",
    "        lst[count] = 0\n",
    "        count += 1\n",
    "        \n",
    "    return move_zeros    \n",
    "  \n",
    "lst = [0,1,2,0,3,4,0,5,6,7,1,1,1]\n",
    "move_zeros(lst)\n",
    "print (lst)"
   ]
  },
  {
   "cell_type": "code",
   "execution_count": 8,
   "metadata": {},
   "outputs": [
    {
     "data": {
      "text/plain": [
       "5"
      ]
     },
     "execution_count": 8,
     "metadata": {},
     "output_type": "execute_result"
    }
   ],
   "source": [
    "#Maximum sum subarray problem\n",
    "def kadane(A):\n",
    "    max_global= max_current = A[0]\n",
    "    for i in range(1, len(A)):\n",
    "        max_current = max(A[i], max_current +A[i])\n",
    "        if max_global < max_current:\n",
    "            max_global= max_current\n",
    "    \n",
    "    return max_global   \n",
    " \n",
    "A =[-2,3,2,-1]\n",
    "kadane(A)\n",
    "        "
   ]
  },
  {
   "cell_type": "code",
   "execution_count": 45,
   "metadata": {},
   "outputs": [
    {
     "name": "stdout",
     "output_type": "stream",
     "text": [
      "70\n",
      "10\n",
      "10\n",
      "10\n",
      "30\n",
      "20\n",
      "10\n",
      "After deletion\n",
      "70\n",
      "10\n",
      "30\n",
      "20\n"
     ]
    }
   ],
   "source": [
    "class Node():\n",
    "    def __init__(self, data):\n",
    "        self.data = data\n",
    "        self.next = None\n",
    "        \n",
    "class linkedList():\n",
    "    def __init__ (self):\n",
    "        self.head = None\n",
    "    def push(self, new_val):\n",
    "        New_node = Node(new_val)\n",
    "        New_node.next =self.head\n",
    "        self.head = New_node\n",
    "        \n",
    "    def printList(self):\n",
    "        temp = self.head\n",
    "        while(temp):\n",
    "            print(temp.data)\n",
    "            temp = temp.next\n",
    "            \n",
    "    def delete_duplicate(self):\n",
    "        d = {}\n",
    "        current = self.head\n",
    "        prev = None\n",
    "        while(current):\n",
    "            if current.data in d:\n",
    "                prev.next = current.next\n",
    "                current = None\n",
    "            else:\n",
    "                d[current.data] = 1\n",
    "                prev = current\n",
    "            current = prev.next\n",
    "            \n",
    "l= linkedList() \n",
    "l.push(10)\n",
    "l.push(20)\n",
    "l.push(30)\n",
    "l.push(10)\n",
    "l.push(10)\n",
    "l.push(10)\n",
    "l.push(70)\n",
    "l.printList()\n",
    "print(\"After deletion\")\n",
    "l.delete_duplicate()\n",
    "l.printList()      "
   ]
  },
  {
   "cell_type": "code",
   "execution_count": 10,
   "metadata": {},
   "outputs": [
    {
     "name": "stdout",
     "output_type": "stream",
     "text": [
      "55\n"
     ]
    }
   ],
   "source": [
    "def get_fibonacci(n):\n",
    "    if n ==1:\n",
    "        return 1\n",
    "    elif n ==0:\n",
    "        return 0\n",
    "    elif n <0:\n",
    "        return -1\n",
    "    else:\n",
    "        return (get_fibonacci(n-1) + get_fibonacci(n-2))\n",
    "    \n",
    "print(get_fibonacci(10))"
   ]
  },
  {
   "cell_type": "code",
   "execution_count": 11,
   "metadata": {},
   "outputs": [
    {
     "name": "stdout",
     "output_type": "stream",
     "text": [
      "Number of inversions are 5\n"
     ]
    }
   ],
   "source": [
    "def getInvCount(arr,n):\n",
    "    total = 0\n",
    "    for i in range(0,n):\n",
    "        for j in range (i+1,n):\n",
    "            if arr[i]> arr[j]:\n",
    "                total +=1\n",
    "    return total              \n",
    "                \n",
    "arr = [1, 20, 6, 4, 5] \n",
    "n = len(arr) \n",
    "print(\"Number of inversions are\", \n",
    "              getInvCount(arr, n))"
   ]
  },
  {
   "cell_type": "code",
   "execution_count": 1,
   "metadata": {},
   "outputs": [
    {
     "data": {
      "text/plain": [
       "8"
      ]
     },
     "execution_count": 1,
     "metadata": {},
     "output_type": "execute_result"
    }
   ],
   "source": [
    "def sum_two_smallest_nums(lst):\n",
    "    return sum(sorted([x for x in lst if x >0])[:2])\n",
    "\n",
    "sum_two_smallest_nums([2, 9, 6, -1])"
   ]
  },
  {
   "cell_type": "code",
   "execution_count": 13,
   "metadata": {},
   "outputs": [
    {
     "name": "stdout",
     "output_type": "stream",
     "text": [
      "List:\n",
      "70 10 10 10 30 20 10 List:\n",
      "70 10 30 20 10 "
     ]
    }
   ],
   "source": [
    "class Node:\n",
    "    def __init__(self, data):\n",
    "        self.data = data\n",
    "        self.next = None\n",
    "class linkedList:\n",
    "    def __init__(self):\n",
    "        self.head =None\n",
    "    def push(self, new_element):\n",
    "        new_node = Node(new_element)\n",
    "        new_node.next = self.head\n",
    "        self.head = new_node\n",
    "    def printlist(self):\n",
    "        temp = self.head\n",
    "        print(\"List:\")\n",
    "        while(temp):\n",
    "            print(temp.data, end =' ')\n",
    "            temp = temp.next\n",
    "    def delete_duplicate(self):\n",
    "        curr = self.head\n",
    "        while(curr.next):\n",
    "            if curr.data == curr.next.data:\n",
    "                curr.next = curr.next.next\n",
    "            else:\n",
    "                curr = curr.next\n",
    "        return self.head\n",
    "    \n",
    "l = linkedList() \n",
    "l.push(10)\n",
    "l.push(20)\n",
    "l.push(30)\n",
    "l.push(10)\n",
    "l.push(10)\n",
    "l.push(10)\n",
    "l.push(70)\n",
    "l.printlist()  \n",
    "l.delete_duplicate()\n",
    "l.printlist()"
   ]
  },
  {
   "cell_type": "code",
   "execution_count": 32,
   "metadata": {},
   "outputs": [
    {
     "name": "stdout",
     "output_type": "stream",
     "text": [
      "1\n",
      "2\n",
      "3\n",
      "1\n"
     ]
    }
   ],
   "source": [
    "class Node:\n",
    "    def __init__(self, data):\n",
    "        self.data = data\n",
    "        self.next = None\n",
    "        \n",
    "class linkedList (object):\n",
    "    def __init__(self):\n",
    "        self.head =None\n",
    "        \n",
    "    def append(self, data):\n",
    "        current = self.head\n",
    "        if (current == None):\n",
    "            self.head = Node(data)\n",
    "            return\n",
    "        else:\n",
    "            while(current.next):\n",
    "                current = current.next\n",
    "            current.next = Node(data)\n",
    "            return\n",
    "        \n",
    "    def print_list(self):\n",
    "        temp = self.head\n",
    "        while(temp):\n",
    "            print(temp.data)\n",
    "            temp = temp.next\n",
    "            \n",
    "    \n",
    "list = linkedList()\n",
    "\n",
    "list.append(1)\n",
    "list.append(2)\n",
    "list.append(3)\n",
    "list.append(1)   \n",
    "list.print_list()"
   ]
  },
  {
   "cell_type": "code",
   "execution_count": 40,
   "metadata": {},
   "outputs": [
    {
     "name": "stdout",
     "output_type": "stream",
     "text": [
      "40\n",
      "30\n",
      "20\n",
      "10\n"
     ]
    },
    {
     "ename": "KeyboardInterrupt",
     "evalue": "",
     "output_type": "error",
     "traceback": [
      "\u001b[1;31m---------------------------------------------------------------------------\u001b[0m",
      "\u001b[1;31mKeyboardInterrupt\u001b[0m                         Traceback (most recent call last)",
      "\u001b[1;32m<ipython-input-40-6ab6a9471d5d>\u001b[0m in \u001b[0;36m<module>\u001b[1;34m\u001b[0m\n\u001b[0;32m     39\u001b[0m \u001b[0ml\u001b[0m\u001b[1;33m.\u001b[0m\u001b[0mhead\u001b[0m\u001b[1;33m.\u001b[0m\u001b[0mnext\u001b[0m\u001b[1;33m.\u001b[0m\u001b[0mnext\u001b[0m\u001b[1;33m.\u001b[0m\u001b[0mnext\u001b[0m\u001b[1;33m.\u001b[0m\u001b[0mnext\u001b[0m \u001b[1;33m=\u001b[0m \u001b[0ml\u001b[0m\u001b[1;33m.\u001b[0m\u001b[0mhead\u001b[0m\u001b[1;33m\u001b[0m\u001b[1;33m\u001b[0m\u001b[0m\n\u001b[0;32m     40\u001b[0m \u001b[1;33m\u001b[0m\u001b[0m\n\u001b[1;32m---> 41\u001b[1;33m \u001b[1;32mif\u001b[0m\u001b[1;33m(\u001b[0m\u001b[0ml\u001b[0m\u001b[1;33m.\u001b[0m\u001b[0mdetectLoop\u001b[0m\u001b[1;33m(\u001b[0m\u001b[1;33m)\u001b[0m\u001b[1;33m)\u001b[0m\u001b[1;33m:\u001b[0m\u001b[1;33m\u001b[0m\u001b[1;33m\u001b[0m\u001b[0m\n\u001b[0m\u001b[0;32m     42\u001b[0m     \u001b[0mprint\u001b[0m\u001b[1;33m(\u001b[0m\u001b[1;34m\"Loop found\"\u001b[0m\u001b[1;33m)\u001b[0m\u001b[1;33m\u001b[0m\u001b[1;33m\u001b[0m\u001b[0m\n\u001b[0;32m     43\u001b[0m \u001b[1;32melse\u001b[0m\u001b[1;33m:\u001b[0m\u001b[1;33m\u001b[0m\u001b[1;33m\u001b[0m\u001b[0m\n",
      "\u001b[1;32m<ipython-input-40-6ab6a9471d5d>\u001b[0m in \u001b[0;36mdetectLoop\u001b[1;34m(self)\u001b[0m\n\u001b[0;32m     18\u001b[0m         \u001b[1;32mwhile\u001b[0m\u001b[1;33m(\u001b[0m\u001b[0mslow\u001b[0m \u001b[1;32mand\u001b[0m \u001b[0mfast\u001b[0m \u001b[1;32mand\u001b[0m \u001b[0mfast\u001b[0m\u001b[1;33m.\u001b[0m\u001b[0mnext\u001b[0m\u001b[1;33m)\u001b[0m\u001b[1;33m:\u001b[0m\u001b[1;33m\u001b[0m\u001b[1;33m\u001b[0m\u001b[0m\n\u001b[0;32m     19\u001b[0m             \u001b[0mslow\u001b[0m \u001b[1;33m=\u001b[0m \u001b[0mslow\u001b[0m\u001b[1;33m.\u001b[0m\u001b[0mnext\u001b[0m\u001b[1;33m\u001b[0m\u001b[1;33m\u001b[0m\u001b[0m\n\u001b[1;32m---> 20\u001b[1;33m             \u001b[0mfast\u001b[0m \u001b[1;33m=\u001b[0m \u001b[0mfast\u001b[0m\u001b[1;33m.\u001b[0m\u001b[0mnext\u001b[0m\u001b[1;33m.\u001b[0m\u001b[0mnext\u001b[0m\u001b[1;33m\u001b[0m\u001b[1;33m\u001b[0m\u001b[0m\n\u001b[0m\u001b[0;32m     21\u001b[0m         \u001b[1;32mif\u001b[0m \u001b[0mslow\u001b[0m \u001b[1;33m==\u001b[0m \u001b[0mfast\u001b[0m\u001b[1;33m:\u001b[0m\u001b[1;33m\u001b[0m\u001b[1;33m\u001b[0m\u001b[0m\n\u001b[0;32m     22\u001b[0m             \u001b[1;32mreturn\u001b[0m \u001b[1;32mTrue\u001b[0m\u001b[1;33m\u001b[0m\u001b[1;33m\u001b[0m\u001b[0m\n",
      "\u001b[1;31mKeyboardInterrupt\u001b[0m: "
     ]
    }
   ],
   "source": [
    "class Node:\n",
    "    def __init__(self, data):\n",
    "        self.data = data\n",
    "        self.next = None\n",
    "        \n",
    "class linkedList (object):\n",
    "    def __init__(self):\n",
    "        self.head =None\n",
    "        \n",
    "    def push(self, new_element):\n",
    "        new_node = Node(new_element)\n",
    "        new_node.next = self.head\n",
    "        self.head = new_node    \n",
    "        \n",
    "    #linked list\n",
    "    def detectLoop(self):\n",
    "        fast = slow = self.head\n",
    "        while(slow and fast and fast.next):\n",
    "            slow = slow.next\n",
    "            fast = fast.next.next\n",
    "        if slow == fast:\n",
    "            return True\n",
    "        return False  \n",
    "        \n",
    "    def print_list(self):\n",
    "        temp = self.head\n",
    "        while(temp):\n",
    "            print(temp.data)\n",
    "            temp = temp.next   \n",
    "    \n",
    "l = linkedList() \n",
    "l.push(10)\n",
    "l.push(20)\n",
    "l.push(30)\n",
    "l.push(40)\n",
    "\n",
    "l.print_list()  \n",
    "# Create a loop for testing\n",
    "l.head.next.next.next.next = l.head\n",
    "\n",
    "if(l.detectLoop()):\n",
    "    print(\"Loop found\")\n",
    "else:\n",
    "    print(\"No Loop \")  "
   ]
  },
  {
   "cell_type": "code",
   "execution_count": 5,
   "metadata": {},
   "outputs": [
    {
     "data": {
      "text/plain": [
       "8"
      ]
     },
     "execution_count": 5,
     "metadata": {},
     "output_type": "execute_result"
    }
   ],
   "source": [
    "def sum_two_smallest_nums(lst):\n",
    "    lst1 = [i for i in lst if i >0]\n",
    "    lst2 = sorted (lst1)\n",
    "    munbers = lst2[0],lst2[1]\n",
    "    return sum(munbers)\n",
    " \n",
    "sum_two_smallest_nums([2, 9, 6, -1])"
   ]
  },
  {
   "cell_type": "code",
   "execution_count": 6,
   "metadata": {},
   "outputs": [
    {
     "data": {
      "text/plain": [
       "40"
      ]
     },
     "execution_count": 6,
     "metadata": {},
     "output_type": "execute_result"
    }
   ],
   "source": [
    "def index_multiplier(lst):\n",
    "    return sum ([i*m for i,m in enumerate (lst)])\n",
    "index_multiplier([1, 2, 3, 4, 5])"
   ]
  },
  {
   "cell_type": "code",
   "execution_count": 7,
   "metadata": {},
   "outputs": [
    {
     "data": {
      "text/plain": [
       "40"
      ]
     },
     "execution_count": 7,
     "metadata": {},
     "output_type": "execute_result"
    }
   ],
   "source": [
    "def index_multiplier(lst):\n",
    "    total = 0\n",
    "    for i in range(0, len(lst)):\n",
    "        m  = i * lst[i]\n",
    "        total += m\n",
    "    return total\n",
    "\n",
    "index_multiplier([1, 2, 3, 4, 5])"
   ]
  },
  {
   "cell_type": "code",
   "execution_count": 14,
   "metadata": {},
   "outputs": [
    {
     "data": {
      "text/plain": [
       "'Balanced'"
      ]
     },
     "execution_count": 14,
     "metadata": {},
     "output_type": "execute_result"
    }
   ],
   "source": [
    "def scale_tip(lst):\n",
    "    ind = lst.index(\"I\")\n",
    "    l,r = 0,0\n",
    "    for i in (lst[:ind]):\n",
    "        l = l+ i\n",
    "    for i in lst[ind+1:]:\n",
    "        r = r+ i\n",
    "    if l > r:\n",
    "        return \"left\"\n",
    "    elif l < r:\n",
    "        return \"right\"\n",
    "    else:\n",
    "        return \"Balanced\"\n",
    "\n",
    "scale_tip([0, 0,1,1, \"I\", 1, 1, 0,0])"
   ]
  },
  {
   "cell_type": "code",
   "execution_count": 15,
   "metadata": {},
   "outputs": [
    {
     "data": {
      "text/plain": [
       "1.0"
      ]
     },
     "execution_count": 15,
     "metadata": {},
     "output_type": "execute_result"
    }
   ],
   "source": [
    "def calculator(num1, operator, num2):\n",
    "    if operator == \"/\" and num2 ==0:\n",
    "        print (\"can't devide by 0\")\n",
    "    else:\n",
    "        return eval(\"num1\" + operator + \"num2\")\n",
    "   \n",
    "    \n",
    "calculator(2, \"/\", 2)"
   ]
  },
  {
   "cell_type": "code",
   "execution_count": 17,
   "metadata": {},
   "outputs": [
    {
     "data": {
      "text/plain": [
       "10"
      ]
     },
     "execution_count": 17,
     "metadata": {},
     "output_type": "execute_result"
    }
   ],
   "source": [
    "def cars(wheels, bodies, figures):\n",
    "    return min([wheels//4, bodies, figures//2])\n",
    "\n",
    "cars(43, 15, 87)"
   ]
  },
  {
   "cell_type": "code",
   "execution_count": null,
   "metadata": {},
   "outputs": [],
   "source": []
  }
 ],
 "metadata": {
  "kernelspec": {
   "display_name": "Python 3",
   "language": "python",
   "name": "python3"
  },
  "language_info": {
   "codemirror_mode": {
    "name": "ipython",
    "version": 3
   },
   "file_extension": ".py",
   "mimetype": "text/x-python",
   "name": "python",
   "nbconvert_exporter": "python",
   "pygments_lexer": "ipython3",
   "version": "3.7.6"
  }
 },
 "nbformat": 4,
 "nbformat_minor": 2
}
