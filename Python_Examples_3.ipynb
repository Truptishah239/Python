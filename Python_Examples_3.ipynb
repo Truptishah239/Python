{
 "cells": [
  {
   "cell_type": "code",
   "execution_count": 44,
   "metadata": {},
   "outputs": [
    {
     "name": "stdout",
     "output_type": "stream",
     "text": [
      "{'Trupti': ['Input.txt', 'output.txt'], 'Aarohi': ['code.py']}\n"
     ]
    }
   ],
   "source": [
    "def group_by_owners(files):\n",
    "    owners = set()\n",
    "    ownerdict = {}\n",
    "    \n",
    "    for k,v in files.items():\n",
    "        if v not in owners:\n",
    "            owners.add(v)\n",
    "       \n",
    "    for o in owners:\n",
    "        ownerdict[o] = []\n",
    "        for k,v in files.items():\n",
    "            if o ==v:\n",
    "                ownerdict[o].append(k)\n",
    "    return  ownerdict   \n",
    "\n",
    "files ={\n",
    "    \"Input.txt\": 'Trupti',\n",
    "    \"code.py\": \"Aarohi\",\n",
    "    \"output.txt\": \"Trupti\"\n",
    "}\n",
    "\n",
    "print(group_by_owners(files))"
   ]
  },
  {
   "cell_type": "code",
   "execution_count": 45,
   "metadata": {},
   "outputs": [
    {
     "name": "stdout",
     "output_type": "stream",
     "text": [
      "[['chocolate sauce', 'vanilla'], ['chocolate sauce', 'chocolate'], ['vanilla sauce', 'vanilla'], ['vanilla sauce', 'chocolate']]\n"
     ]
    }
   ],
   "source": [
    "class IceCreamMachine:\n",
    "    def __init__(self, topping, ingredient) :\n",
    "        self.topping = topping\n",
    "        self. ingredient = ingredient \n",
    "        \n",
    "    def scoops(self):\n",
    "        result = []\n",
    "        for ingredient in self.ingredient:\n",
    "            for topping in self.topping:\n",
    "                merge = []\n",
    "                merge.append(ingredient)\n",
    "                merge.append(topping)\n",
    "                result.append(merge)\n",
    "        return result \n",
    "    \n",
    "machine =  IceCreamMachine ([\"vanilla\", \"chocolate\"], [\"chocolate sauce\", \"vanilla sauce\"])\n",
    "print (machine.scoops())"
   ]
  },
  {
   "cell_type": "code",
   "execution_count": 46,
   "metadata": {},
   "outputs": [
    {
     "data": {
      "text/plain": [
       "[10, 20, 31, 41]"
      ]
     },
     "execution_count": 46,
     "metadata": {},
     "output_type": "execute_result"
    }
   ],
   "source": [
    "#Sort array even then odd\n",
    "def sortArray(lst):\n",
    "    even = [i for i in lst if i% 2 == 0]\n",
    "    odd = [i for i in lst if i% 2 == 1]\n",
    "    return even+odd\n",
    "\n",
    "lst = [10,20, 31, 41]\n",
    "sortArray(lst)    "
   ]
  },
  {
   "cell_type": "code",
   "execution_count": 47,
   "metadata": {},
   "outputs": [
    {
     "data": {
      "text/plain": [
       "'acacraam'"
      ]
     },
     "execution_count": 47,
     "metadata": {},
     "output_type": "execute_result"
    }
   ],
   "source": [
    "def replace_vowel(txt, ch):\n",
    "    return ''.join([i if i not in 'aeiou' else ch for i in txt])\n",
    "\n",
    "replace_vowel('icecream', 'a')"
   ]
  },
  {
   "cell_type": "code",
   "execution_count": 48,
   "metadata": {},
   "outputs": [
    {
     "data": {
      "text/plain": [
       "[[0, 0, 1, 0, 0], [0, 0]]"
      ]
     },
     "execution_count": 48,
     "metadata": {},
     "output_type": "execute_result"
    }
   ],
   "source": [
    "def flipAndInvertImage(A):\n",
    "    b = []\n",
    "    c = []\n",
    "    for row in A:\n",
    "        d =[]\n",
    "        for m in row:\n",
    "            if m == 1:\n",
    "                d.append(0)\n",
    "            else:\n",
    "                d.append(1)\n",
    "            c= d[::-1]\n",
    "        b.append(c) \n",
    "    return b\n",
    "    \n",
    "lst= [[1,1,0,1,1], [1,1]]\n",
    "flipAndInvertImage(lst)"
   ]
  },
  {
   "cell_type": "code",
   "execution_count": 49,
   "metadata": {},
   "outputs": [
    {
     "data": {
      "text/plain": [
       "40"
      ]
     },
     "execution_count": 49,
     "metadata": {},
     "output_type": "execute_result"
    }
   ],
   "source": [
    "def index_multiplier(lst):\n",
    "    total = 0\n",
    "    for i in range(0,len(lst)):\n",
    "        total += i *lst[i]\n",
    "    return total\n",
    "index_multiplier([1,2,3,4,5])"
   ]
  },
  {
   "cell_type": "code",
   "execution_count": 50,
   "metadata": {},
   "outputs": [
    {
     "data": {
      "text/plain": [
       "6"
      ]
     },
     "execution_count": 50,
     "metadata": {},
     "output_type": "execute_result"
    }
   ],
   "source": [
    "def sum_of_evens(lst):\n",
    "    sum_even = 0\n",
    "    for i in lst:\n",
    "        for j in i:\n",
    "            if j % 2 ==0:\n",
    "                sum_even += j\n",
    "    return sum_even            \n",
    "\n",
    "sum_of_evens([\n",
    "  [1, 0, 2],\n",
    "  [5, 5, 7],\n",
    "  [9, 4, 3]\n",
    "])"
   ]
  },
  {
   "cell_type": "code",
   "execution_count": 51,
   "metadata": {},
   "outputs": [
    {
     "data": {
      "text/plain": [
       "True"
      ]
     },
     "execution_count": 51,
     "metadata": {},
     "output_type": "execute_result"
    }
   ],
   "source": [
    "def double_letter(str1):\n",
    "    for i in range(len(str1)):\n",
    "        if str1[i] == str1[i+1]:\n",
    "            return True\n",
    "    return False \n",
    "\n",
    "double_letter('loops')"
   ]
  },
  {
   "cell_type": "code",
   "execution_count": 52,
   "metadata": {},
   "outputs": [
    {
     "name": "stdout",
     "output_type": "stream",
     "text": [
      "True\n"
     ]
    }
   ],
   "source": [
    "def is_palindrome(Word):\n",
    "    L =0\n",
    "    R =len(Word)-1\n",
    "    while (R > L):\n",
    "        if not (Word[R].lower()) == (Word[L].lower()):\n",
    "            return False\n",
    "        R = R - 1\n",
    "        L = L + 1\n",
    "        return True    \n",
    "print (is_palindrome('Deleveled'))   "
   ]
  },
  {
   "cell_type": "code",
   "execution_count": 53,
   "metadata": {},
   "outputs": [
    {
     "name": "stdout",
     "output_type": "stream",
     "text": [
      "['trupti', 'dhiraj', 'aarohi', 'rihit']\n"
     ]
    }
   ],
   "source": [
    "def unique_name(name1, name2):\n",
    "    new_names = name1\n",
    "    for N in name2:\n",
    "        if N not in new_names:\n",
    "            new_names.append(N)\n",
    "    return new_names     \n",
    "\n",
    "names1 = ['trupti','dhiraj', 'aarohi']\n",
    "names2 = ['trupti', 'dhiraj', 'rihit']\n",
    "print(unique_name(names1, names2))"
   ]
  },
  {
   "cell_type": "code",
   "execution_count": 54,
   "metadata": {},
   "outputs": [
    {
     "data": {
      "text/plain": [
       "3628800"
      ]
     },
     "execution_count": 54,
     "metadata": {},
     "output_type": "execute_result"
    }
   ],
   "source": [
    "def factorial(Z):\n",
    "    if Z == 1:\n",
    "        return 1\n",
    "    else:\n",
    "        return Z*factorial(Z-1)\n",
    "\n",
    "factorial(10)"
   ]
  },
  {
   "cell_type": "code",
   "execution_count": 55,
   "metadata": {},
   "outputs": [
    {
     "data": {
      "text/plain": [
       "[4, 9, 16, 100]"
      ]
     },
     "execution_count": 55,
     "metadata": {},
     "output_type": "execute_result"
    }
   ],
   "source": [
    "def sortedsquare(A):\n",
    "    return sorted([x**2 for x in A])\n",
    "   \n",
    "\n",
    "A = [10,2,3,4]\n",
    "sortedsquare(A)"
   ]
  },
  {
   "cell_type": "code",
   "execution_count": 56,
   "metadata": {},
   "outputs": [
    {
     "name": "stdout",
     "output_type": "stream",
     "text": [
      "True\n",
      "[10, 20]\n",
      "20\n"
     ]
    },
    {
     "data": {
      "text/plain": [
       "10"
      ]
     },
     "execution_count": 56,
     "metadata": {},
     "output_type": "execute_result"
    }
   ],
   "source": [
    "class stack():\n",
    "    def __init__(self):\n",
    "        self.items = []\n",
    "    def push(self, item):\n",
    "        self.items.append(item)\n",
    "    def pop(self):\n",
    "        return self.items.pop()\n",
    "    def is_empty(self):\n",
    "        return self.items==[]        \n",
    "    def peek(self):\n",
    "        if not self.is_empty():\n",
    "            return self.items[-1]\n",
    "    def get_stack(self):\n",
    "        return self.items\n",
    "    \n",
    "s =stack()\n",
    "print(s.is_empty())\n",
    "s.push(10)\n",
    "s.push(20)\n",
    "print(s.get_stack())\n",
    "print(s.pop())\n",
    "s.peek()  \n",
    " "
   ]
  },
  {
   "cell_type": "code",
   "execution_count": 57,
   "metadata": {},
   "outputs": [
    {
     "data": {
      "text/plain": [
       "True"
      ]
     },
     "execution_count": 57,
     "metadata": {},
     "output_type": "execute_result"
    }
   ],
   "source": [
    "def is_match(p1,p2):\n",
    "    if p1 == \"(\" and p2 == \")\":\n",
    "        return True\n",
    "    elif p1 == \"[\" and p2 == \"]\":\n",
    "        return True\n",
    "    elif p1 == \"{\" and p2 == \"}\":\n",
    "        return True\n",
    "    else: \n",
    "        return False\n",
    "    \n",
    "def balance_paren(S):\n",
    "    index =0\n",
    "    s =stack()\n",
    "    is_balance = True\n",
    "    while (index < len(S)) and is_balance:\n",
    "        p = S[index]\n",
    "        if p in \"[{(\":\n",
    "            s.push (p)\n",
    "        else:\n",
    "            if s.is_empty():\n",
    "                is_balance= False\n",
    "            else:\n",
    "                out = s.pop()\n",
    "                if not is_match(out,p):\n",
    "                     is_balance= False\n",
    "        index = index +1\n",
    "        \n",
    "    if is_balance and s.is_empty():\n",
    "        return True\n",
    "    else:\n",
    "        return False\n",
    "                        \n",
    "S = '({[]})'    \n",
    "balance_paren(S)"
   ]
  },
  {
   "cell_type": "code",
   "execution_count": 58,
   "metadata": {},
   "outputs": [
    {
     "data": {
      "text/plain": [
       "4"
      ]
     },
     "execution_count": 58,
     "metadata": {},
     "output_type": "execute_result"
    }
   ],
   "source": [
    "def balancedStringSplit(s):\n",
    "    count = 0\n",
    "    balanced = 0\n",
    "    d = {'R': 1, 'L': -1}\n",
    "    for i in range(len(s)):\n",
    "        balanced += d[s[i]]\n",
    "        if balanced == 0:\n",
    "            count += 1\n",
    "    return count        \n",
    "       \n",
    "\n",
    "s = \"RLRRLLRLRL\"\n",
    "balancedStringSplit(s)"
   ]
  },
  {
   "cell_type": "code",
   "execution_count": 59,
   "metadata": {},
   "outputs": [
    {
     "data": {
      "text/plain": [
       "3"
      ]
     },
     "execution_count": 59,
     "metadata": {},
     "output_type": "execute_result"
    }
   ],
   "source": [
    "#Even number of digit / length \n",
    "def findNumbers(nums):\n",
    "    total = 0\n",
    "    for i in nums:\n",
    "        if len(str(i)) % 2 == 0:\n",
    "            total += 1           \n",
    "    return total    \n",
    "            \n",
    "\n",
    "L = [32,431,51,6,55]\n",
    "findNumbers(L)"
   ]
  },
  {
   "cell_type": "code",
   "execution_count": null,
   "metadata": {},
   "outputs": [],
   "source": []
  }
 ],
 "metadata": {
  "kernelspec": {
   "display_name": "Python 3",
   "language": "python",
   "name": "python3"
  },
  "language_info": {
   "codemirror_mode": {
    "name": "ipython",
    "version": 3
   },
   "file_extension": ".py",
   "mimetype": "text/x-python",
   "name": "python",
   "nbconvert_exporter": "python",
   "pygments_lexer": "ipython3",
   "version": "3.7.6"
  }
 },
 "nbformat": 4,
 "nbformat_minor": 4
}
